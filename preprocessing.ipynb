{
 "cells": [
  {
   "cell_type": "markdown",
   "metadata": {},
   "source": [
    "# Spam Project for PEC"
   ]
  },
  {
   "cell_type": "markdown",
   "metadata": {},
   "source": [
    "Import the Libraries needed"
   ]
  },
  {
   "cell_type": "code",
   "execution_count": 1,
   "metadata": {},
   "outputs": [],
   "source": [
    "import pandas as pd\n",
    "import numpy as np\n",
    "import re\n",
    "import matplotlib.pyplot as plt\n",
    "import seaborn as sns"
   ]
  },
  {
   "cell_type": "markdown",
   "metadata": {},
   "source": [
    "Read Raw Data"
   ]
  },
  {
   "cell_type": "code",
   "execution_count": 2,
   "metadata": {},
   "outputs": [],
   "source": [
    "df = pd.read_excel('spamdata.xlsx')"
   ]
  },
  {
   "cell_type": "code",
   "execution_count": 3,
   "metadata": {},
   "outputs": [
    {
     "data": {
      "text/plain": [
       "0    Happy New Year!&nbsp;<br />\\r\\n新年快樂<br />\\r\\n<...\n",
       "1    您好, 我們是參加2017HKFW的台灣廠商京澔公司(攤位號3D-DS140)。目前正在尋找...\n",
       "2    Please quote me the latest price of the above ...\n",
       "3    A buyer with the below contact info has just r...\n",
       "4    Please quote me the latest price of the above ...\n",
       "Name: MESSAGE, dtype: object"
      ]
     },
     "execution_count": 3,
     "metadata": {},
     "output_type": "execute_result"
    }
   ],
   "source": [
    "df['MESSAGE'].head()"
   ]
  },
  {
   "cell_type": "code",
   "execution_count": 4,
   "metadata": {},
   "outputs": [
    {
     "data": {
      "text/plain": [
       "'Please quote me the latest price of the above product.<br><br>Purchase Quantity: 3000 piece(s)<br><br><br />\\r\\nSir,<br />\\r\\n<br />\\r\\n&nbsp;<br />\\r\\n<br />\\r\\n<br />\\r\\n<br />\\r\\nWe are interested to purchase your supplyment product.<br />\\r\\n<br />\\r\\n<br />\\r\\n<br />\\r\\nKindly send your quotations and price list to us.<br />\\r\\n<br />\\r\\n<br />\\r\\n<br />\\r\\nFor more details about this order, please contact:Mr Desmond Attah.<br />\\r\\n<br />\\r\\nEmail:rita_izus@lovecat.com<br />\\r\\nEmail:rita_salicheconsultant@consultant.com<br />\\r\\n<br />\\r\\nWaiting to hear from you asap.<br />\\r\\n<br />\\r\\n&nbsp;<br />\\r\\n<br />\\r\\nThanks<br />\\r\\n<br />\\r\\n<br />\\r\\nMs Rita Izuchukwu.<br />\\r\\n<br />\\r\\nManager Lenient Consultant Agency.<br />\\r\\n<br />\\r\\n<br />\\r\\nEmail: rita_izus@lovecat.com<br />\\r\\nEmail:rita_salicheconsultant@consultant.com<br />\\r\\n<br />\\r\\n<br />\\r\\n'"
      ]
     },
     "execution_count": 4,
     "metadata": {},
     "output_type": "execute_result"
    }
   ],
   "source": [
    "df['MESSAGE'].iloc[5]"
   ]
  },
  {
   "cell_type": "code",
   "execution_count": 5,
   "metadata": {},
   "outputs": [
    {
     "data": {
      "text/plain": [
       "'Dear&nbsp; manager,<br />\\r\\nHave a good day!<br />\\r\\nWe are the manufacture of Canned fruit,our main products are:<br />\\r\\nCanned yellow peach<br />\\r\\nCanned apple sauce<br />\\r\\nCanned solid pack sliced apples<br />\\r\\nIf you have any need,pls contact us,we will offer the best price to you.<br />\\r\\nBest regards,<br />\\r\\nMandy'"
      ]
     },
     "execution_count": 5,
     "metadata": {},
     "output_type": "execute_result"
    }
   ],
   "source": [
    "df[df['SPAM_IND']=='N']['MESSAGE'].iloc[10]"
   ]
  },
  {
   "cell_type": "code",
   "execution_count": 8,
   "metadata": {},
   "outputs": [],
   "source": [
    "def lan_detector(s):\n",
    "        try:\n",
    "            s.encode(encoding='utf-8').decode('ascii')\n",
    "            return 'Eng'\n",
    "        except UnicodeDecodeError:\n",
    "            return 'Chi'"
   ]
  },
  {
   "cell_type": "code",
   "execution_count": 9,
   "metadata": {},
   "outputs": [],
   "source": [
    "df['lan']=df['MESSAGE'].apply(lan_detector)"
   ]
  },
  {
   "cell_type": "code",
   "execution_count": 10,
   "metadata": {},
   "outputs": [],
   "source": [
    "dfc=df[df['lan']=='Chi']\n",
    "dfe=df[df['lan']=='Eng']"
   ]
  },
  {
   "cell_type": "code",
   "execution_count": 11,
   "metadata": {},
   "outputs": [
    {
     "data": {
      "text/plain": [
       "(270, 28)"
      ]
     },
     "execution_count": 11,
     "metadata": {},
     "output_type": "execute_result"
    }
   ],
   "source": [
    "dfc.shape"
   ]
  },
  {
   "cell_type": "code",
   "execution_count": 12,
   "metadata": {},
   "outputs": [
    {
     "data": {
      "text/plain": [
       "(1572, 28)"
      ]
     },
     "execution_count": 12,
     "metadata": {},
     "output_type": "execute_result"
    }
   ],
   "source": [
    "dfe.shape"
   ]
  },
  {
   "cell_type": "code",
   "execution_count": 16,
   "metadata": {},
   "outputs": [
    {
     "data": {
      "text/plain": [
       "0.1465798045602606"
      ]
     },
     "execution_count": 16,
     "metadata": {},
     "output_type": "execute_result"
    }
   ],
   "source": [
    "270/df.shape[0]"
   ]
  },
  {
   "cell_type": "code",
   "execution_count": 9,
   "metadata": {},
   "outputs": [],
   "source": [
    "dfe=dfe.reset_index(drop=True)\n",
    "dfc=dfc.reset_index(drop=True)"
   ]
  },
  {
   "cell_type": "code",
   "execution_count": 10,
   "metadata": {},
   "outputs": [
    {
     "data": {
      "text/plain": [
       "Index(['ENQUIRY_REQUEST_ID', 'MESSAGE_CENTER_ID', 'MESSAGE_TYPE',\n",
       "       'ENQUIRY_ITEM_TYPE', 'ENQUIRY_TYPE', 'FAIRSYMBOL', 'FAIRFISCALYEAR',\n",
       "       'EMS_ORDER_NO', 'COMPANY_ID', 'PRODUCT_ID', 'WTMCID', 'DEVICETYPE',\n",
       "       'ADSYSID', 'CHANNEL (ER)', 'LAST_CHANNEL (AKAMAI)',\n",
       "       'LAST_CHANNEL_LABEL (AKAMAI)', 'LAST_PUB_CODE (AKAMAI)',\n",
       "       'LAST_ISSUE_NUM (AKAMAI)', 'SENDER_EMAIL_ADDR', 'SEND_DATE', 'SPAM_IND',\n",
       "       'STATUS', 'ENQUIRY_NATURE', 'ENQUIRY_NATURE_DESC', 'MESSAGE', 'SUBJECT',\n",
       "       'ENQUIRY_COUNT_IN_SAME_REQUEST', 'lan'],\n",
       "      dtype='object')"
      ]
     },
     "execution_count": 10,
     "metadata": {},
     "output_type": "execute_result"
    }
   ],
   "source": [
    "dfe.columns"
   ]
  },
  {
   "cell_type": "code",
   "execution_count": 11,
   "metadata": {},
   "outputs": [
    {
     "data": {
      "text/plain": [
       "SPAM_IND\n",
       "N     35\n",
       "Y    235\n",
       "Name: ENQUIRY_REQUEST_ID, dtype: int64"
      ]
     },
     "execution_count": 11,
     "metadata": {},
     "output_type": "execute_result"
    }
   ],
   "source": [
    "dfc.groupby('SPAM_IND').count().iloc[:,0]"
   ]
  },
  {
   "cell_type": "code",
   "execution_count": 12,
   "metadata": {},
   "outputs": [
    {
     "data": {
      "text/plain": [
       "SPAM_IND\n",
       "N      29\n",
       "Y    1543\n",
       "Name: ENQUIRY_REQUEST_ID, dtype: int64"
      ]
     },
     "execution_count": 12,
     "metadata": {},
     "output_type": "execute_result"
    }
   ],
   "source": [
    "dfe.groupby('SPAM_IND').count().iloc[:,0]"
   ]
  },
  {
   "cell_type": "code",
   "execution_count": 13,
   "metadata": {},
   "outputs": [
    {
     "data": {
      "text/plain": [
       "ENQUIRY_REQUEST_ID                                                         3945824\n",
       "MESSAGE_CENTER_ID                                                         31026350\n",
       "MESSAGE_TYPE                                                                    EN\n",
       "ENQUIRY_ITEM_TYPE                                                                C\n",
       "ENQUIRY_TYPE                                                                   NaN\n",
       "FAIRSYMBOL                                                                     NaN\n",
       "FAIRFISCALYEAR                                                                 NaN\n",
       "EMS_ORDER_NO                                                                   NaN\n",
       "COMPANY_ID                                                                  160212\n",
       "PRODUCT_ID                                                                     NaN\n",
       "WTMCID                                                                         NaN\n",
       "DEVICETYPE                                                                     NaN\n",
       "ADSYSID                                                                        NaN\n",
       "CHANNEL (ER)                                                                   NaN\n",
       "LAST_CHANNEL (AKAMAI)                                                          NaN\n",
       "LAST_CHANNEL_LABEL (AKAMAI)                                                    NaN\n",
       "LAST_PUB_CODE (AKAMAI)                                                         NaN\n",
       "LAST_ISSUE_NUM (AKAMAI)                                                        NaN\n",
       "SENDER_EMAIL_ADDR                                      ogundemirel@smyrnagoods.com\n",
       "SEND_DATE                                               2017-01-12 03:35:38.867000\n",
       "SPAM_IND                                                                         N\n",
       "STATUS                                                        AUTO_APPROVED_REJECT\n",
       "ENQUIRY_NATURE                                          Self-promotion on products\n",
       "ENQUIRY_NATURE_DESC                                                            NaN\n",
       "MESSAGE                          Hi,<br />\\r\\nWe are a company based in Izmir, ...\n",
       "SUBJECT                                               Buyer enquiry from hktdc.com\n",
       "ENQUIRY_COUNT_IN_SAME_REQUEST                                                    1\n",
       "lan                                                                            Eng\n",
       "Name: 16, dtype: object"
      ]
     },
     "execution_count": 13,
     "metadata": {},
     "output_type": "execute_result"
    }
   ],
   "source": [
    "dfe.iloc[16]"
   ]
  },
  {
   "cell_type": "markdown",
   "metadata": {},
   "source": [
    "Split the Dataset into English and those containing Chinese"
   ]
  },
  {
   "cell_type": "code",
   "execution_count": 14,
   "metadata": {},
   "outputs": [],
   "source": [
    "eg1=dfc['MESSAGE'].iloc[0]\n",
    "eg2=dfc['MESSAGE'].iloc[1]"
   ]
  },
  {
   "cell_type": "code",
   "execution_count": 15,
   "metadata": {},
   "outputs": [],
   "source": [
    "eg1=dfe['MESSAGE'].iloc[0]\n",
    "eg4=dfe['MESSAGE'].iloc[3]"
   ]
  },
  {
   "cell_type": "code",
   "execution_count": 17,
   "metadata": {},
   "outputs": [],
   "source": [
    "def parse_eng(text):\n",
    "    #initial parsed text\n",
    "    text=text.lower().replace(\"\\n&nbsp\",\" \").replace(\"\\nbsp\",\" \").replace(\"<br />\",\" \").replace(\"\\n\",\" \").replace(\"\\r\",\"\").replace(\"<br>\",\" \")\n",
    "    #text=re.sub(r'[^\\w\\s]','',text)\n",
    "    return text"
   ]
  },
  {
   "cell_type": "code",
   "execution_count": 59,
   "metadata": {},
   "outputs": [],
   "source": [
    "text=re.sub(\"\\S*@\\S*\\s?\", \"EMAIL\",text)\n",
    "#text=re.sub(r'(\\w|[@])*.com',\"EMAIL\",text)\n",
    "text=re.sub(r'http://.*.com',\"WEBSITE\",text)\n",
    "text=re.sub(r'https://.*.com',\"WEBSITE\",text)\n",
    "text=re.sub(r'www.*.com',\"WEBSITE\",text)"
   ]
  },
  {
   "cell_type": "code",
   "execution_count": 19,
   "metadata": {},
   "outputs": [],
   "source": [
    "dfe['MESSAGE']=dfe['MESSAGE'].apply(parse_eng)"
   ]
  },
  {
   "cell_type": "code",
   "execution_count": 22,
   "metadata": {},
   "outputs": [],
   "source": [
    "dfe['p_message']=dfe['MESSAGE'].apply(parse_eng)"
   ]
  },
  {
   "cell_type": "code",
   "execution_count": 56,
   "metadata": {},
   "outputs": [
    {
     "data": {
      "text/plain": [
       "'please quote me the latest price of the above product.  purchase quantity: 10 piece(s)  hello,  i need 10 pieces of this item can you ship it to israel?  and do you accept visa?or payapl?  please contact me with: alonisrael85@gmail.com  here you can see stores that i working with in israel:  www.buybystore.com'"
      ]
     },
     "execution_count": 56,
     "metadata": {},
     "output_type": "execute_result"
    }
   ],
   "source": [
    "text=dfe['p_message'].iloc[0]\n",
    "text"
   ]
  },
  {
   "cell_type": "code",
   "execution_count": 44,
   "metadata": {},
   "outputs": [
    {
     "data": {
      "text/plain": [
       "'please quote me the latest price of the above product.  purchase quantity: 10000 piece(s)  hello    we are interested in your products and we are taking this opportunity to request your firm to submit the quotation best price for the supply of your product.    reply us back to email : cortez54@inbox.ru    quick response will be appreciated    regards,  gwendolyn cortez'"
      ]
     },
     "execution_count": 44,
     "metadata": {},
     "output_type": "execute_result"
    }
   ],
   "source": []
  },
  {
   "cell_type": "code",
   "execution_count": 57,
   "metadata": {},
   "outputs": [],
   "source": [
    "result=re.sub(r'www.*.com',\"WEBSITE\",text)"
   ]
  },
  {
   "cell_type": "code",
   "execution_count": 58,
   "metadata": {},
   "outputs": [
    {
     "data": {
      "text/plain": [
       "'please quote me the latest price of the above product.  purchase quantity: 10 piece(s)  hello,  i need 10 pieces of this item can you ship it to israel?  and do you accept visa?or payapl?  please contact me with: alonisrael85@gmail.com  here you can see stores that i working with in israel:  WEBSITE'"
      ]
     },
     "execution_count": 58,
     "metadata": {},
     "output_type": "execute_result"
    }
   ],
   "source": [
    "result"
   ]
  },
  {
   "cell_type": "code",
   "execution_count": null,
   "metadata": {},
   "outputs": [],
   "source": []
  },
  {
   "cell_type": "code",
   "execution_count": null,
   "metadata": {},
   "outputs": [],
   "source": []
  },
  {
   "cell_type": "code",
   "execution_count": null,
   "metadata": {},
   "outputs": [],
   "source": []
  },
  {
   "cell_type": "code",
   "execution_count": 365,
   "metadata": {},
   "outputs": [],
   "source": [
    "dfe['spam']=dfe['SPAM_IND'].apply(lambda x: 1 if x=='N' else 0)"
   ]
  },
  {
   "cell_type": "code",
   "execution_count": 366,
   "metadata": {},
   "outputs": [
    {
     "data": {
      "text/html": [
       "<div>\n",
       "<style scoped>\n",
       "    .dataframe tbody tr th:only-of-type {\n",
       "        vertical-align: middle;\n",
       "    }\n",
       "\n",
       "    .dataframe tbody tr th {\n",
       "        vertical-align: top;\n",
       "    }\n",
       "\n",
       "    .dataframe thead th {\n",
       "        text-align: right;\n",
       "    }\n",
       "</style>\n",
       "<table border=\"1\" class=\"dataframe\">\n",
       "  <thead>\n",
       "    <tr style=\"text-align: right;\">\n",
       "      <th></th>\n",
       "      <th>p_message</th>\n",
       "      <th>spam</th>\n",
       "    </tr>\n",
       "  </thead>\n",
       "  <tbody>\n",
       "    <tr>\n",
       "      <th>0</th>\n",
       "      <td>please quote me the latest price of the above product  purchase quantity 10 pieces  hello  i need 10 pieces of this item can you ship it to israel  and do you accept visaor payapl  please contact me with alonisrael85gmailcom  here you can see stores that i working with in israel  WEBSITE</td>\n",
       "      <td>0</td>\n",
       "    </tr>\n",
       "    <tr>\n",
       "      <th>1</th>\n",
       "      <td>a buyer with the below contact info has just registered for our upcoming hktdc hong kong international lighting fair spring edition and is interested in your product as shown you may want to contact himher and prepare in advance for more detailed discussion during the fair period  best regards hong kong trade development council</td>\n",
       "      <td>0</td>\n",
       "    </tr>\n",
       "    <tr>\n",
       "      <th>2</th>\n",
       "      <td>please quote me the latest price of the above product  purchase quantity 10000 pieces  hello    we are interested in your products and we are taking this opportunity to request your firm to submit the quotation best price for the supply of your product    reply us back to email  cortez54inboxru    quick response will be appreciated    regards  gwendolyn cortez</td>\n",
       "      <td>0</td>\n",
       "    </tr>\n",
       "    <tr>\n",
       "      <th>3</th>\n",
       "      <td>please quote me the latest price of the above product  purchase quantity 3000 pieces    sir            we are interested to purchase your supplyment product        kindly send your quotations and price list to us        for more details about this order please contactmr desmond attah    emailrita_izuslovecatcom  emailrita_salicheconsultantconsultantcom    waiting to hear from you asap        thanks      ms rita izuchukwu    manager lenient consultant agency      email rita_izuslovecatcom  emailrita_salicheconsultantconsultantcom</td>\n",
       "      <td>0</td>\n",
       "    </tr>\n",
       "    <tr>\n",
       "      <th>4</th>\n",
       "      <td>please quote me the latest price of the above product  purchase quantity 7000 pieces  hello    i am interested in your product kindly send me the following bellownbsp    1 quote your prices  2 payment termnbsp  3 shipment term      reply via my emailnbsp</td>\n",
       "      <td>0</td>\n",
       "    </tr>\n",
       "    <tr>\n",
       "      <th>5</th>\n",
       "      <td>would like to know moq</td>\n",
       "      <td>0</td>\n",
       "    </tr>\n",
       "    <tr>\n",
       "      <th>6</th>\n",
       "      <td>good day    my name is john paul from russia i will like to make an inquiry on your  product please inform me on minimum and maximum order quantity and latest  product catalog send it asap so that we can place a trial order    contact email johnpaul88888hotmailcom    regards    john paul  ericsson russia inc  locality mississauga ontario  street address2002425 matheson blvd e  country russia  postal code l4w 5k4  phone 7 905 2682005  fax 7 905 2682010  reply reply to all</td>\n",
       "      <td>0</td>\n",
       "    </tr>\n",
       "    <tr>\n",
       "      <th>7</th>\n",
       "      <td>good day my name is rita mackenzie from canada i will like to make an inquiry on your product please inform me on minimum and maximum order quantity and latest product catalog send it asap so that we can place a trial order contact email ritabox333hotmailcom regards rita mackenzie ericsson canada inc locality mississauga ontario street address2002425 matheson blvd e country canada postal code l4w 5k4 phone1 905 2682005 fax1 905 2682010</td>\n",
       "      <td>0</td>\n",
       "    </tr>\n",
       "    <tr>\n",
       "      <th>8</th>\n",
       "      <td>please quote me the latest price of the above product  purchase quantity inquiry pieces  dear sirmadam  we are interested in purchasing your products and we sincerely hope to establish a longterm business relation with your esteemed company please kindly send me your latest catalog also inform me about the minimum order quantity delivery time or fob and payment terms warrantyplease contact us via apexgloballtd11gmailcom  your early reply is highly appreciated  thank you  best regards  ____________________    mr amresh lan  companynbsp namenbsp  apexnbsp global ltd  14 jlnkesidang 3680 jalan raja chulan  50200 kuala lumpur kuala lumpur  malaysia  tel60102149435</td>\n",
       "      <td>0</td>\n",
       "    </tr>\n",
       "    <tr>\n",
       "      <th>9</th>\n",
       "      <td>hi  can you please make me your kind quotation for products  send me cataloguenbspnbsp kind price time of delivery and packing</td>\n",
       "      <td>0</td>\n",
       "    </tr>\n",
       "  </tbody>\n",
       "</table>\n",
       "</div>"
      ],
      "text/plain": [
       "                                                                                                                                                                                                                                                                                                                                                                                                                                                                                                                                                                                                                                                                                      p_message  \\\n",
       "0  please quote me the latest price of the above product  purchase quantity 10 pieces  hello  i need 10 pieces of this item can you ship it to israel  and do you accept visaor payapl  please contact me with alonisrael85gmailcom  here you can see stores that i working with in israel  WEBSITE                                                                                                                                                                                                                                                                                                                                                                                               \n",
       "1  a buyer with the below contact info has just registered for our upcoming hktdc hong kong international lighting fair spring edition and is interested in your product as shown you may want to contact himher and prepare in advance for more detailed discussion during the fair period  best regards hong kong trade development council                                                                                                                                                                                                                                                                                                                                                     \n",
       "2  please quote me the latest price of the above product  purchase quantity 10000 pieces  hello    we are interested in your products and we are taking this opportunity to request your firm to submit the quotation best price for the supply of your product    reply us back to email  cortez54inboxru    quick response will be appreciated    regards  gwendolyn cortez                                                                                                                                                                                                                                                                                                                     \n",
       "3  please quote me the latest price of the above product  purchase quantity 3000 pieces    sir            we are interested to purchase your supplyment product        kindly send your quotations and price list to us        for more details about this order please contactmr desmond attah    emailrita_izuslovecatcom  emailrita_salicheconsultantconsultantcom    waiting to hear from you asap        thanks      ms rita izuchukwu    manager lenient consultant agency      email rita_izuslovecatcom  emailrita_salicheconsultantconsultantcom                                                                                                                                         \n",
       "4  please quote me the latest price of the above product  purchase quantity 7000 pieces  hello    i am interested in your product kindly send me the following bellownbsp    1 quote your prices  2 payment termnbsp  3 shipment term      reply via my emailnbsp                                                                                                                                                                                                                                                                                                                                                                                                                                 \n",
       "5  would like to know moq                                                                                                                                                                                                                                                                                                                                                                                                                                                                                                                                                                                                                                                                         \n",
       "6  good day    my name is john paul from russia i will like to make an inquiry on your  product please inform me on minimum and maximum order quantity and latest  product catalog send it asap so that we can place a trial order    contact email johnpaul88888hotmailcom    regards    john paul  ericsson russia inc  locality mississauga ontario  street address2002425 matheson blvd e  country russia  postal code l4w 5k4  phone 7 905 2682005  fax 7 905 2682010  reply reply to all                                                                                                                                                                                                    \n",
       "7  good day my name is rita mackenzie from canada i will like to make an inquiry on your product please inform me on minimum and maximum order quantity and latest product catalog send it asap so that we can place a trial order contact email ritabox333hotmailcom regards rita mackenzie ericsson canada inc locality mississauga ontario street address2002425 matheson blvd e country canada postal code l4w 5k4 phone1 905 2682005 fax1 905 2682010                                                                                                                                                                                                                                        \n",
       "8  please quote me the latest price of the above product  purchase quantity inquiry pieces  dear sirmadam  we are interested in purchasing your products and we sincerely hope to establish a longterm business relation with your esteemed company please kindly send me your latest catalog also inform me about the minimum order quantity delivery time or fob and payment terms warrantyplease contact us via apexgloballtd11gmailcom  your early reply is highly appreciated  thank you  best regards  ____________________    mr amresh lan  companynbsp namenbsp  apexnbsp global ltd  14 jlnkesidang 3680 jalan raja chulan  50200 kuala lumpur kuala lumpur  malaysia  tel60102149435   \n",
       "9  hi  can you please make me your kind quotation for products  send me cataloguenbspnbsp kind price time of delivery and packing                                                                                                                                                                                                                                                                                                                                                                                                                                                                                                                                                                 \n",
       "\n",
       "   spam  \n",
       "0  0     \n",
       "1  0     \n",
       "2  0     \n",
       "3  0     \n",
       "4  0     \n",
       "5  0     \n",
       "6  0     \n",
       "7  0     \n",
       "8  0     \n",
       "9  0     "
      ]
     },
     "execution_count": 366,
     "metadata": {},
     "output_type": "execute_result"
    }
   ],
   "source": [
    "dfe=dfe[['p_message','spam']]\n",
    "dfe[dfe['spam']==0].head(10)"
   ]
  },
  {
   "cell_type": "code",
   "execution_count": 367,
   "metadata": {},
   "outputs": [
    {
     "data": {
      "text/html": [
       "<div>\n",
       "<style scoped>\n",
       "    .dataframe tbody tr th:only-of-type {\n",
       "        vertical-align: middle;\n",
       "    }\n",
       "\n",
       "    .dataframe tbody tr th {\n",
       "        vertical-align: top;\n",
       "    }\n",
       "\n",
       "    .dataframe thead th {\n",
       "        text-align: right;\n",
       "    }\n",
       "</style>\n",
       "<table border=\"1\" class=\"dataframe\">\n",
       "  <thead>\n",
       "    <tr style=\"text-align: right;\">\n",
       "      <th></th>\n",
       "      <th>p_message</th>\n",
       "      <th>spam</th>\n",
       "    </tr>\n",
       "  </thead>\n",
       "  <tbody>\n",
       "    <tr>\n",
       "      <th>16</th>\n",
       "      <td>hi  we are a company based in izmir turkey our main businesses are sea cucumber topshell octopus cuttlefish we produce all the products we sell processing over 200 tons of sea cucumber yearly we have three kinds of sea cucumbers holothuria mammata spiky holothuria mammata nonspiky holothuria polii  our dried products are all shaped well straight with no calcium and no smell of the highest quality  if you have an interest you can also visit our website WEBSITEpany and products please do not hesitate to contact us if you need further assistance</td>\n",
       "      <td>1</td>\n",
       "    </tr>\n",
       "    <tr>\n",
       "      <th>31</th>\n",
       "      <td>how are you  professional custommade silicone products of high quality and low price fast delivery welcome a trial order can be customized according to your logo at httpsdawanxs1688com  the contact miss chen qq 18022738145 2911356103 sky loxiangju</td>\n",
       "      <td>1</td>\n",
       "    </tr>\n",
       "    <tr>\n",
       "      <th>32</th>\n",
       "      <td>dear sirmadam    i am eve export manager from jsc eksportus lithuania our company mainly exports honey breakfast cereals porridge and other healthy snacks our all products are high quality with more than 9 month shelf life all products are made in europe  please sent me email if you are interested to see our commercial offers    best regards    evejsc eksportus  37065937152ievaeksportuseu  skype id ieva eksportus</td>\n",
       "      <td>1</td>\n",
       "    </tr>\n",
       "    <tr>\n",
       "      <th>47</th>\n",
       "      <td>dearnbsp manager  have a good day  we are the manufacture of canned fruitour main products are  canned yellow peach  canned apple sauce  canned solid pack sliced apples  if you have any needpls contact uswe will offer the best price to you  best regards  mandy</td>\n",
       "      <td>1</td>\n",
       "    </tr>\n",
       "    <tr>\n",
       "      <th>75</th>\n",
       "      <td>we are pampn group 2013 co ltd located in bangkok thailand we are manufacturer to produce the extra virgin coconut oil we are kindly to negotiate with all the customers requestednbspour extra virgin coconut oil is a premium grade and 100 natural we just launched our new brand named quotsukniyomquot and we are seeking the partners all over the world we also do oem for the customers as well</td>\n",
       "      <td>1</td>\n",
       "    </tr>\n",
       "    <tr>\n",
       "      <th>76</th>\n",
       "      <td>dear sirmadam    i am eve export manager from jsc eksportus lithuania our company mainly exports honey breakfast cereals porridge and other healthy snacks our all products are high quality with more than 9 month shelf life all products are made in europe  please sent me email if you are interested to see our commercial offers    best regards    evejsc eksportus  37065937152ievaeksportuseu  skype id ieva eksportus</td>\n",
       "      <td>1</td>\n",
       "    </tr>\n",
       "    <tr>\n",
       "      <th>88</th>\n",
       "      <td>hi supplier    wish you happy new year    irsquom suraj planning manager base on sri lanka nbspand working in idealpack limited in china below i mentioned our office address in dongguan and we are located in hong kong china germany turkey sri lanka dubai    many large and world renowned brands marking their presence mainly in europe the customer base continues to grow with the expansion of the textile industry and the market growth our brand portfolio extends to more than 20 customers around europe    we are doing many paper products and we need to find new packing partner in china so we would like to meet you and arrange meeting within 09th jan and 20th jan so please get back to us with your details    email address ndash surajchanakaidealpackcom  contact number  94 710 679 400      our china office address    room 211 2 floor no 1 building   techology industrial park hua kebo creative garden  shida road da lingshan town  dongguan city guanggong province  china    please see below contact details in our china office    county manager  bettyyanidealpackcom  contact number  861 364 282 8527</td>\n",
       "      <td>1</td>\n",
       "    </tr>\n",
       "    <tr>\n",
       "      <th>122</th>\n",
       "      <td>please quote me the latest price of the above product  purchase quantity gold pieces  hi  we are royal family from ghana here  we have gold for sale or exchange with equipment  if the buyer cannbsp also sign agreement so  that we can give you for credit after you sell you give us our money  we have 300 gold bar now23caratnbsp 97to99  we are selling it whole sale price  get back to me for more details  we can also give you commission if you give us buyer and you be our front person  get back to me if we can do business or  not    write to my private email amavic100yahoocom</td>\n",
       "      <td>1</td>\n",
       "    </tr>\n",
       "    <tr>\n",
       "      <th>124</th>\n",
       "      <td>dear jinhua ivy home textile co ltdbrhappy new yearbrbrthis is dongming shi from ningbo mingyi toysltd i am hereby sincerely to invite you to visit our booth on hong kong toys games fair 2017 our booth number is 3gd36brbrmain products outdoor children activities toys br       balance bikebr       children trikebr       children tent  brbrabout mingtoysbr ningbo mingyi toys coltd specializes in manufacture medium and high grade kids tricycle outdoor activities toys within 20 years manufacture experience it is located in the east china coast and next to the east china sea which is in a very convenience marine transportation ningbo mingyi toys coltd owns 20000 square meter production base with fully automatic assembly line and automatic powder spray assembly line it is the assigned supplier of hape metal products also has a long term cooperative partner with ikea brbrbrsee you in hong kong brbrdongming shi</td>\n",
       "      <td>1</td>\n",
       "    </tr>\n",
       "    <tr>\n",
       "      <th>139</th>\n",
       "      <td>have you ever thought of enhance your product accessories line like 3d printing eyewear collection    3d printing is a cutting edge technology which has no moq and unlimited styles in design    we are professional design team in eyewear design and all of our designer collection eyewear are made by 3d printing we do not have any stocks and we can open cooperation with all retailers wholesalers distributors and factories if you have a brand we can make a collection for you you can sell easily to your customers    we are now building up our partners welcome you be one of our partners    i am jeffrey leung eyewear design director in hk hope we can have cooperation    if you want to discuss feel free to contact me below are my contact info i can send you my designer team collection and styles    email jeffreyleung28gmailcom    mobile whatsapp 852 9237 8778    wechat jeffreyleung28    thank you    jeffrey leung eyewear</td>\n",
       "      <td>1</td>\n",
       "    </tr>\n",
       "  </tbody>\n",
       "</table>\n",
       "</div>"
      ],
      "text/plain": [
       "                                                                                                                                                                                                                                                                                                                                                                                                                                                                                                                                                                                                                                                                                                                                                                                                                                                                                                                                                                                                                                                                                                                                              p_message  \\\n",
       "16   hi  we are a company based in izmir turkey our main businesses are sea cucumber topshell octopus cuttlefish we produce all the products we sell processing over 200 tons of sea cucumber yearly we have three kinds of sea cucumbers holothuria mammata spiky holothuria mammata nonspiky holothuria polii  our dried products are all shaped well straight with no calcium and no smell of the highest quality  if you have an interest you can also visit our website WEBSITEpany and products please do not hesitate to contact us if you need further assistance                                                                                                                                                                                                                                                                                                                                                                                                                                                                                                                                                                                 \n",
       "31   how are you  professional custommade silicone products of high quality and low price fast delivery welcome a trial order can be customized according to your logo at httpsdawanxs1688com  the contact miss chen qq 18022738145 2911356103 sky loxiangju                                                                                                                                                                                                                                                                                                                                                                                                                                                                                                                                                                                                                                                                                                                                                                                                                                                                                              \n",
       "32   dear sirmadam    i am eve export manager from jsc eksportus lithuania our company mainly exports honey breakfast cereals porridge and other healthy snacks our all products are high quality with more than 9 month shelf life all products are made in europe  please sent me email if you are interested to see our commercial offers    best regards    evejsc eksportus  37065937152ievaeksportuseu  skype id ieva eksportus                                                                                                                                                                                                                                                                                                                                                                                                                                                                                                                                                                                                                                                                                                                     \n",
       "47   dearnbsp manager  have a good day  we are the manufacture of canned fruitour main products are  canned yellow peach  canned apple sauce  canned solid pack sliced apples  if you have any needpls contact uswe will offer the best price to you  best regards  mandy                                                                                                                                                                                                                                                                                                                                                                                                                                                                                                                                                                                                                                                                                                                                                                                                                                                                                 \n",
       "75   we are pampn group 2013 co ltd located in bangkok thailand we are manufacturer to produce the extra virgin coconut oil we are kindly to negotiate with all the customers requestednbspour extra virgin coconut oil is a premium grade and 100 natural we just launched our new brand named quotsukniyomquot and we are seeking the partners all over the world we also do oem for the customers as well                                                                                                                                                                                                                                                                                                                                                                                                                                                                                                                                                                                                                                                                                                                                              \n",
       "76   dear sirmadam    i am eve export manager from jsc eksportus lithuania our company mainly exports honey breakfast cereals porridge and other healthy snacks our all products are high quality with more than 9 month shelf life all products are made in europe  please sent me email if you are interested to see our commercial offers    best regards    evejsc eksportus  37065937152ievaeksportuseu  skype id ieva eksportus                                                                                                                                                                                                                                                                                                                                                                                                                                                                                                                                                                                                                                                                                                                     \n",
       "88   hi supplier    wish you happy new year    irsquom suraj planning manager base on sri lanka nbspand working in idealpack limited in china below i mentioned our office address in dongguan and we are located in hong kong china germany turkey sri lanka dubai    many large and world renowned brands marking their presence mainly in europe the customer base continues to grow with the expansion of the textile industry and the market growth our brand portfolio extends to more than 20 customers around europe    we are doing many paper products and we need to find new packing partner in china so we would like to meet you and arrange meeting within 09th jan and 20th jan so please get back to us with your details    email address ndash surajchanakaidealpackcom  contact number  94 710 679 400      our china office address    room 211 2 floor no 1 building   techology industrial park hua kebo creative garden  shida road da lingshan town  dongguan city guanggong province  china    please see below contact details in our china office    county manager  bettyyanidealpackcom  contact number  861 364 282 8527   \n",
       "122  please quote me the latest price of the above product  purchase quantity gold pieces  hi  we are royal family from ghana here  we have gold for sale or exchange with equipment  if the buyer cannbsp also sign agreement so  that we can give you for credit after you sell you give us our money  we have 300 gold bar now23caratnbsp 97to99  we are selling it whole sale price  get back to me for more details  we can also give you commission if you give us buyer and you be our front person  get back to me if we can do business or  not    write to my private email amavic100yahoocom                                                                                                                                                                                                                                                                                                                                                                                                                                                                                                                                                   \n",
       "124  dear jinhua ivy home textile co ltdbrhappy new yearbrbrthis is dongming shi from ningbo mingyi toysltd i am hereby sincerely to invite you to visit our booth on hong kong toys games fair 2017 our booth number is 3gd36brbrmain products outdoor children activities toys br       balance bikebr       children trikebr       children tent  brbrabout mingtoysbr ningbo mingyi toys coltd specializes in manufacture medium and high grade kids tricycle outdoor activities toys within 20 years manufacture experience it is located in the east china coast and next to the east china sea which is in a very convenience marine transportation ningbo mingyi toys coltd owns 20000 square meter production base with fully automatic assembly line and automatic powder spray assembly line it is the assigned supplier of hape metal products also has a long term cooperative partner with ikea brbrbrsee you in hong kong brbrdongming shi                                                                                                                                                                                                 \n",
       "139  have you ever thought of enhance your product accessories line like 3d printing eyewear collection    3d printing is a cutting edge technology which has no moq and unlimited styles in design    we are professional design team in eyewear design and all of our designer collection eyewear are made by 3d printing we do not have any stocks and we can open cooperation with all retailers wholesalers distributors and factories if you have a brand we can make a collection for you you can sell easily to your customers    we are now building up our partners welcome you be one of our partners    i am jeffrey leung eyewear design director in hk hope we can have cooperation    if you want to discuss feel free to contact me below are my contact info i can send you my designer team collection and styles    email jeffreyleung28gmailcom    mobile whatsapp 852 9237 8778    wechat jeffreyleung28    thank you    jeffrey leung eyewear                                                                                                                                                                                       \n",
       "\n",
       "     spam  \n",
       "16   1     \n",
       "31   1     \n",
       "32   1     \n",
       "47   1     \n",
       "75   1     \n",
       "76   1     \n",
       "88   1     \n",
       "122  1     \n",
       "124  1     \n",
       "139  1     "
      ]
     },
     "execution_count": 367,
     "metadata": {},
     "output_type": "execute_result"
    }
   ],
   "source": [
    "dfe[dfe['spam']==1].head(10)"
   ]
  },
  {
   "cell_type": "code",
   "execution_count": 66,
   "metadata": {},
   "outputs": [],
   "source": [
    "exdf=pd.DataFrame({'a':[1,2,3,4],\n",
    "                  'b':[5,6,7,8]})"
   ]
  },
  {
   "cell_type": "code",
   "execution_count": 77,
   "metadata": {},
   "outputs": [
    {
     "data": {
      "text/plain": [
       "112"
      ]
     },
     "execution_count": 77,
     "metadata": {},
     "output_type": "execute_result"
    }
   ],
   "source": [
    "exdf.a."
   ]
  },
  {
   "cell_type": "code",
   "execution_count": 70,
   "metadata": {},
   "outputs": [
    {
     "data": {
      "text/plain": [
       "<function print>"
      ]
     },
     "execution_count": 70,
     "metadata": {},
     "output_type": "execute_result"
    }
   ],
   "source": [
    "print"
   ]
  },
  {
   "cell_type": "code",
   "execution_count": 82,
   "metadata": {},
   "outputs": [],
   "source": [
    "a = np.nan\n",
    "b = 3 \n",
    "c = np.nan"
   ]
  },
  {
   "cell_type": "code",
   "execution_count": 83,
   "metadata": {},
   "outputs": [
    {
     "data": {
      "text/plain": [
       "nan"
      ]
     },
     "execution_count": 83,
     "metadata": {},
     "output_type": "execute_result"
    }
   ],
   "source": [
    "np.mean([a,b,c])"
   ]
  },
  {
   "cell_type": "code",
   "execution_count": null,
   "metadata": {},
   "outputs": [],
   "source": []
  }
 ],
 "metadata": {
  "kernelspec": {
   "display_name": "Python [default]",
   "language": "python",
   "name": "python3"
  },
  "language_info": {
   "codemirror_mode": {
    "name": "ipython",
    "version": 3
   },
   "file_extension": ".py",
   "mimetype": "text/x-python",
   "name": "python",
   "nbconvert_exporter": "python",
   "pygments_lexer": "ipython3",
   "version": "3.6.4"
  }
 },
 "nbformat": 4,
 "nbformat_minor": 2
}
