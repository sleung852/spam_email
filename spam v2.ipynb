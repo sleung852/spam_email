{
 "cells": [
  {
   "cell_type": "markdown",
   "metadata": {},
   "source": [
    "# Spam Project for PEC"
   ]
  },
  {
   "cell_type": "markdown",
   "metadata": {},
   "source": [
    "Import the Libraries needed"
   ]
  },
  {
   "cell_type": "code",
   "execution_count": 389,
   "metadata": {},
   "outputs": [],
   "source": [
    "import pandas as pd\n",
    "import numpy as np\n",
    "import re\n",
    "import matplotlib.pyplot as plt\n",
    "import seaborn as sns"
   ]
  },
  {
   "cell_type": "markdown",
   "metadata": {},
   "source": [
    "Read Raw Data"
   ]
  },
  {
   "cell_type": "code",
   "execution_count": 390,
   "metadata": {},
   "outputs": [],
   "source": [
    "df = pd.read_excel('spamdata.xlsx')"
   ]
  },
  {
   "cell_type": "code",
   "execution_count": 458,
   "metadata": {},
   "outputs": [
    {
     "data": {
      "text/plain": [
       "Index(['ENQUIRY_REQUEST_ID', 'MESSAGE_CENTER_ID', 'MESSAGE_TYPE',\n",
       "       'ENQUIRY_ITEM_TYPE', 'ENQUIRY_TYPE', 'FAIRSYMBOL', 'FAIRFISCALYEAR',\n",
       "       'EMS_ORDER_NO', 'COMPANY_ID', 'PRODUCT_ID', 'WTMCID', 'DEVICETYPE',\n",
       "       'ADSYSID', 'CHANNEL (ER)', 'LAST_CHANNEL (AKAMAI)',\n",
       "       'LAST_CHANNEL_LABEL (AKAMAI)', 'LAST_PUB_CODE (AKAMAI)',\n",
       "       'LAST_ISSUE_NUM (AKAMAI)', 'SENDER_EMAIL_ADDR', 'SEND_DATE', 'SPAM_IND',\n",
       "       'STATUS', 'ENQUIRY_NATURE', 'ENQUIRY_NATURE_DESC', 'MESSAGE', 'SUBJECT',\n",
       "       'ENQUIRY_COUNT_IN_SAME_REQUEST', 'lan'],\n",
       "      dtype='object')"
      ]
     },
     "execution_count": 458,
     "metadata": {},
     "output_type": "execute_result"
    }
   ],
   "source": [
    "df.columns"
   ]
  },
  {
   "cell_type": "code",
   "execution_count": 460,
   "metadata": {},
   "outputs": [
    {
     "data": {
      "text/plain": [
       "ENQUIRY_REQUEST_ID               3948790                                                                    \n",
       "MESSAGE_CENTER_ID                31055318                                                                   \n",
       "MESSAGE_TYPE                     CEX                                                                        \n",
       "ENQUIRY_ITEM_TYPE                E                                                                          \n",
       "ENQUIRY_TYPE                     NaN                                                                        \n",
       "FAIRSYMBOL                       NaN                                                                        \n",
       "FAIRFISCALYEAR                   NaN                                                                        \n",
       "EMS_ORDER_NO                     1.08642e+07                                                                \n",
       "COMPANY_ID                       437054                                                                     \n",
       "PRODUCT_ID                       NaN                                                                        \n",
       "WTMCID                           NaN                                                                        \n",
       "DEVICETYPE                       NaN                                                                        \n",
       "ADSYSID                          NaN                                                                        \n",
       "CHANNEL (ER)                     NaN                                                                        \n",
       "LAST_CHANNEL (AKAMAI)            NaN                                                                        \n",
       "LAST_CHANNEL_LABEL (AKAMAI)      NaN                                                                        \n",
       "LAST_PUB_CODE (AKAMAI)           NaN                                                                        \n",
       "LAST_ISSUE_NUM (AKAMAI)          NaN                                                                        \n",
       "SENDER_EMAIL_ADDR                lisa@ncity.com.tw                                                          \n",
       "SEND_DATE                        2017-01-13 14:08:21.593000                                                 \n",
       "SPAM_IND                         N                                                                          \n",
       "STATUS                           AUTO_APPROVED_REJECT                                                       \n",
       "ENQUIRY_NATURE                   Self-promotion on products                                                 \n",
       "ENQUIRY_NATURE_DESC              NaN                                                                        \n",
       "MESSAGE                          您好, 我們是參加2017HKFW的台灣廠商京澔公司(攤位號3D-DS140)。目前正在尋找製衣及布料廠商，希望能有機會在展會期間與貴司洽談合作事宜。\n",
       "SUBJECT                          成衣合作                                                                       \n",
       "ENQUIRY_COUNT_IN_SAME_REQUEST    1                                                                          \n",
       "lan                              Chi                                                                        \n",
       "Name: 1, dtype: object"
      ]
     },
     "execution_count": 460,
     "metadata": {},
     "output_type": "execute_result"
    }
   ],
   "source": [
    "df.iloc[1,:]"
   ]
  },
  {
   "cell_type": "code",
   "execution_count": 391,
   "metadata": {},
   "outputs": [
    {
     "data": {
      "text/plain": [
       "0    Happy New Year!&nbsp;<br />\\r\\n新年快樂<br />\\r\\n<br />\\r\\nIn this special moment, 36Link present you a special gift! Let&rsquo;s celebrate the New Year with new technologies.<br />\\r\\n在這值得慶祝的時刻, 36Link為您送上一份特別的禮物。 讓我們用科技及系統慶祝新一年嘅來臨。<br />\\r\\n&nbsp;<br />\\r\\n36Link Truck Management System (https://www.36link.net/)&nbsp;is now covered by Technology Voucher Programme! Max fund HKD 200K from HK Gov&rsquo;t.<br />\\r\\n36Link卡車管理系統現在已經包含在&ldquo;科技券計劃&rdquo;的資助範圍,&nbsp;贵公司可以最多從基金裏拿到20萬港元的創新科技基金。<br />\\r\\n&nbsp;<br />\\r\\nIt&rsquo;s the best time to exploit the power of system and unlock the unlimited resources in the network.<br />\\r\\n就在這最佳的時機利用系統的力量去增加公司的效率及透明度， 從網絡裏找到無限的資源及商機。<br />\\r\\n&nbsp;<br />\\r\\nOur 36Link Truck Management System is one of the best in the market. The developed company Acquaintance Enterprises Ltd is the incubated company by Hong Kong Science and Technology Park (HKSTP) and is registered with Hong Kong R&amp;D Centre for logistics and Supply Chain Management enabling Technologies Limited (ISCM).&nbsp; But 36Link is not only a management system but also a platform for your company to look for more business opportunities. In 36Link online marketplace, you will be able to find the shippers who need the trucking services.<br />\\r\\n36Link的卡車管理系統是現今市場上其中一個最好的物流管理系統。&nbsp;開發公司&nbsp;Acquaintance Enterprise Limited&nbsp;是香港科技園的其中一個培育公司,&nbsp;並已登記註冊于香港物流及供應鏈管理應用技術有限公司（ISCM)。但36Link不僅是一個管理系統，而且將會為您的公司尋找更多的商機。在36Link在線市場，您將能夠找到需要貨運服務的發貨人。<br />\\r\\n&nbsp;<br />\\r\\nAnd the product 36Link is also the winner of HKTDC Entrepreneur Day Outstanding Startup Award 2016. The company has keeping close partnership with HKTDC. &nbsp;<br />\\r\\n36Link也是2016年香港貿發局創業日傑出創業獎的得主。公司與香港貿發局保持緊密合作關係。<br />\\r\\n<br />\\r\\nWhat to know more about 36Link? Let&rsquo;s go to&nbsp;https://www.36link.net/&nbsp;or you can refer to the attached company introduction!<br />\\r\\n想了解更多關於36Link？&nbsp;轉到 https://www.36link.net/ 或者您也可以參考附件公司介紹！\n",
       "1    您好, 我們是參加2017HKFW的台灣廠商京澔公司(攤位號3D-DS140)。目前正在尋找製衣及布料廠商，希望能有機會在展會期間與貴司洽談合作事宜。                                                                                                                                                                                                                                                                                                                                                                                                                                                                                                                                                                                                                                                                                                                                                                                                                                                                                                                                                                                                                                                                                                                                                                                                                                                                                                                                                                                                                                                                                                                                                                                                                                                                                                                                                                                                                                                                                                                                    \n",
       "2    Please quote me the latest price of the above product.<br><br>Purchase Quantity: 10 piece(s)<br><br>hello,<br />\\r\\ni need 10 pieces of this item can you ship it to israel?<br />\\r\\nand do you accept visa?or payapl?<br />\\r\\nplease contact me with: alonisrael85@gmail.com<br />\\r\\nhere you can see stores that i working with in israel:<br />\\r\\nwww.buybystore.com                                                                                                                                                                                                                                                                                                                                                                                                                                                                                                                                                                                                                                                                                                                                                                                                                                                                                                                                                                                                                                                                                                                                                                                                                                                                                                                                                                                                                                                                                                                                                                                                                                    \n",
       "3    A buyer with the below contact info has just registered for our upcoming HKTDC Hong Kong International Lighting Fair (Spring Edition), and is interested in your product as shown. You may want to contact him/her and prepare in advance for more detailed discussion during the fair period.<br /><br />Best Regards,<br />Hong Kong Trade Development Council                                                                                                                                                                                                                                                                                                                                                                                                                                                                                                                                                                                                                                                                                                                                                                                                                                                                                                                                                                                                                                                                                                                                                                                                                                                                                                                                                                                                                                                                                                                                                                                                                                               \n",
       "4    Please quote me the latest price of the above product.<br><br>Purchase Quantity: 10000 piece(s)<br><br>Hello<br />\\r\\n<br />\\r\\nwe are interested in your products and we are taking this opportunity to request your firm to submit the quotation best price for the supply of your product.<br />\\r\\n<br />\\r\\nReply us back to email : cortez54@inbox.ru<br />\\r\\n<br />\\r\\nQuick response will be appreciated<br />\\r\\n<br />\\r\\nRegards,<br />\\r\\nGwendolyn Cortez                                                                                                                                                                                                                                                                                                                                                                                                                                                                                                                                                                                                                                                                                                                                                                                                                                                                                                                                                                                                                                                                                                                                                                                                                                                                                                                                                                                                                                                                                                                                        \n",
       "Name: MESSAGE, dtype: object"
      ]
     },
     "execution_count": 391,
     "metadata": {},
     "output_type": "execute_result"
    }
   ],
   "source": [
    "df['MESSAGE'].head()"
   ]
  },
  {
   "cell_type": "code",
   "execution_count": 392,
   "metadata": {},
   "outputs": [
    {
     "data": {
      "text/plain": [
       "'Please quote me the latest price of the above product.<br><br>Purchase Quantity: 3000 piece(s)<br><br><br />\\r\\nSir,<br />\\r\\n<br />\\r\\n&nbsp;<br />\\r\\n<br />\\r\\n<br />\\r\\n<br />\\r\\nWe are interested to purchase your supplyment product.<br />\\r\\n<br />\\r\\n<br />\\r\\n<br />\\r\\nKindly send your quotations and price list to us.<br />\\r\\n<br />\\r\\n<br />\\r\\n<br />\\r\\nFor more details about this order, please contact:Mr Desmond Attah.<br />\\r\\n<br />\\r\\nEmail:rita_izus@lovecat.com<br />\\r\\nEmail:rita_salicheconsultant@consultant.com<br />\\r\\n<br />\\r\\nWaiting to hear from you asap.<br />\\r\\n<br />\\r\\n&nbsp;<br />\\r\\n<br />\\r\\nThanks<br />\\r\\n<br />\\r\\n<br />\\r\\nMs Rita Izuchukwu.<br />\\r\\n<br />\\r\\nManager Lenient Consultant Agency.<br />\\r\\n<br />\\r\\n<br />\\r\\nEmail: rita_izus@lovecat.com<br />\\r\\nEmail:rita_salicheconsultant@consultant.com<br />\\r\\n<br />\\r\\n<br />\\r\\n'"
      ]
     },
     "execution_count": 392,
     "metadata": {},
     "output_type": "execute_result"
    }
   ],
   "source": [
    "df['MESSAGE'].iloc[5]"
   ]
  },
  {
   "cell_type": "code",
   "execution_count": 393,
   "metadata": {},
   "outputs": [
    {
     "data": {
      "text/plain": [
       "'Dear&nbsp; manager,<br />\\r\\nHave a good day!<br />\\r\\nWe are the manufacture of Canned fruit,our main products are:<br />\\r\\nCanned yellow peach<br />\\r\\nCanned apple sauce<br />\\r\\nCanned solid pack sliced apples<br />\\r\\nIf you have any need,pls contact us,we will offer the best price to you.<br />\\r\\nBest regards,<br />\\r\\nMandy'"
      ]
     },
     "execution_count": 393,
     "metadata": {},
     "output_type": "execute_result"
    }
   ],
   "source": [
    "df[df['SPAM_IND']=='N']['MESSAGE'].iloc[10]"
   ]
  },
  {
   "cell_type": "code",
   "execution_count": 394,
   "metadata": {},
   "outputs": [],
   "source": [
    "def lan_detector(s):\n",
    "        try:\n",
    "            s.encode(encoding='utf-8').decode('ascii')\n",
    "            return 'Eng'\n",
    "        except UnicodeDecodeError:\n",
    "            return 'Chi'"
   ]
  },
  {
   "cell_type": "code",
   "execution_count": 395,
   "metadata": {},
   "outputs": [],
   "source": [
    "df['lan']=df['MESSAGE'].apply(lan_detector)"
   ]
  },
  {
   "cell_type": "code",
   "execution_count": 396,
   "metadata": {},
   "outputs": [],
   "source": [
    "dfc=df[df['lan']=='Chi']\n",
    "dfe=df[df['lan']=='Eng']"
   ]
  },
  {
   "cell_type": "code",
   "execution_count": 397,
   "metadata": {},
   "outputs": [],
   "source": [
    "dfe=dfe.reset_index(drop=True)\n",
    "dfc=dfc.reset_index(drop=True)"
   ]
  },
  {
   "cell_type": "code",
   "execution_count": 398,
   "metadata": {},
   "outputs": [
    {
     "data": {
      "text/plain": [
       "Index(['ENQUIRY_REQUEST_ID', 'MESSAGE_CENTER_ID', 'MESSAGE_TYPE',\n",
       "       'ENQUIRY_ITEM_TYPE', 'ENQUIRY_TYPE', 'FAIRSYMBOL', 'FAIRFISCALYEAR',\n",
       "       'EMS_ORDER_NO', 'COMPANY_ID', 'PRODUCT_ID', 'WTMCID', 'DEVICETYPE',\n",
       "       'ADSYSID', 'CHANNEL (ER)', 'LAST_CHANNEL (AKAMAI)',\n",
       "       'LAST_CHANNEL_LABEL (AKAMAI)', 'LAST_PUB_CODE (AKAMAI)',\n",
       "       'LAST_ISSUE_NUM (AKAMAI)', 'SENDER_EMAIL_ADDR', 'SEND_DATE', 'SPAM_IND',\n",
       "       'STATUS', 'ENQUIRY_NATURE', 'ENQUIRY_NATURE_DESC', 'MESSAGE', 'SUBJECT',\n",
       "       'ENQUIRY_COUNT_IN_SAME_REQUEST', 'lan'],\n",
       "      dtype='object')"
      ]
     },
     "execution_count": 398,
     "metadata": {},
     "output_type": "execute_result"
    }
   ],
   "source": [
    "dfe.columns"
   ]
  },
  {
   "cell_type": "code",
   "execution_count": 399,
   "metadata": {},
   "outputs": [
    {
     "data": {
      "text/plain": [
       "SPAM_IND\n",
       "N    35 \n",
       "Y    235\n",
       "Name: ENQUIRY_REQUEST_ID, dtype: int64"
      ]
     },
     "execution_count": 399,
     "metadata": {},
     "output_type": "execute_result"
    }
   ],
   "source": [
    "dfc.groupby('SPAM_IND').count().iloc[:,0]"
   ]
  },
  {
   "cell_type": "code",
   "execution_count": 400,
   "metadata": {},
   "outputs": [
    {
     "data": {
      "text/plain": [
       "SPAM_IND\n",
       "N    29  \n",
       "Y    1543\n",
       "Name: ENQUIRY_REQUEST_ID, dtype: int64"
      ]
     },
     "execution_count": 400,
     "metadata": {},
     "output_type": "execute_result"
    }
   ],
   "source": [
    "dfe.groupby('SPAM_IND').count().iloc[:,0]"
   ]
  },
  {
   "cell_type": "code",
   "execution_count": 459,
   "metadata": {},
   "outputs": [
    {
     "data": {
      "text/plain": [
       "p_message    hi  we are a company based in izmir turkey our main businesses are sea cucumber topshell octopus cuttlefish we produce all the products we sell processing over 200 tons of sea cucumber yearly we have three kinds of sea cucumbers holothuria mammata spiky holothuria mammata nonspiky holothuria polii  our dried products are all shaped well straight with no calcium and no smell of the highest quality  if you have an interest you can also visit our website WEBSITEpany and products please do not hesitate to contact us if you need further assistance\n",
       "spam         1                                                                                                                                                                                                                                                                                                                                                                                                                                                                                                                                                                   \n",
       "Name: 16, dtype: object"
      ]
     },
     "execution_count": 459,
     "metadata": {},
     "output_type": "execute_result"
    }
   ],
   "source": [
    "dfe.iloc[16,:]"
   ]
  },
  {
   "cell_type": "markdown",
   "metadata": {},
   "source": [
    "Split the Dataset into English and those containing Chinese"
   ]
  },
  {
   "cell_type": "code",
   "execution_count": 402,
   "metadata": {},
   "outputs": [],
   "source": [
    "eg1=dfc['MESSAGE'].iloc[0]\n",
    "eg2=dfc['MESSAGE'].iloc[1]"
   ]
  },
  {
   "cell_type": "code",
   "execution_count": 403,
   "metadata": {},
   "outputs": [],
   "source": [
    "eg1=dfe['MESSAGE'].iloc[0]\n",
    "eg4=dfe['MESSAGE'].iloc[3]"
   ]
  },
  {
   "cell_type": "code",
   "execution_count": 404,
   "metadata": {},
   "outputs": [],
   "source": [
    "def parse_eng(text):\n",
    "    #initial parsed text\n",
    "    text=text.lower().replace(\"\\n&nbsp\",\" \").replace(\"\\nbsp\",\" \").replace(\"<br />\",\" \").replace(\"\\n\",\" \").replace(\"\\r\",\"\").replace(\"<br>\",\" \")\n",
    "    #replace email address to EMAIL\n",
    "    text=re.sub(\"\\S*@\\S*\\s?\", \"EMAIL\",text)\n",
    "    #replace website url to WEBSITE\n",
    "    text=re.sub(r'http://.*.com',\"WEBSITE\",text)\n",
    "    text=re.sub(r'https://.*.com',\"WEBSITE\",text)\n",
    "    text=re.sub(r'www.*.com',\"WEBSITE\",text)\n",
    "    text=re.sub(r'[^\\w\\s]','',text)\n",
    "    return text"
   ]
  },
  {
   "cell_type": "code",
   "execution_count": 405,
   "metadata": {},
   "outputs": [],
   "source": [
    "dfe['p_message']=dfe['MESSAGE'].apply(parse_eng)"
   ]
  },
  {
   "cell_type": "code",
   "execution_count": 406,
   "metadata": {},
   "outputs": [],
   "source": [
    "dfe['spam']=dfe['SPAM_IND'].apply(lambda x: 1 if x=='N' else 0)"
   ]
  },
  {
   "cell_type": "code",
   "execution_count": 407,
   "metadata": {},
   "outputs": [
    {
     "data": {
      "text/html": [
       "<div>\n",
       "<style scoped>\n",
       "    .dataframe tbody tr th:only-of-type {\n",
       "        vertical-align: middle;\n",
       "    }\n",
       "\n",
       "    .dataframe tbody tr th {\n",
       "        vertical-align: top;\n",
       "    }\n",
       "\n",
       "    .dataframe thead th {\n",
       "        text-align: right;\n",
       "    }\n",
       "</style>\n",
       "<table border=\"1\" class=\"dataframe\">\n",
       "  <thead>\n",
       "    <tr style=\"text-align: right;\">\n",
       "      <th></th>\n",
       "      <th>p_message</th>\n",
       "      <th>spam</th>\n",
       "    </tr>\n",
       "  </thead>\n",
       "  <tbody>\n",
       "    <tr>\n",
       "      <th>0</th>\n",
       "      <td>please quote me the latest price of the above product  purchase quantity 10 pieces  hello  i need 10 pieces of this item can you ship it to israel  and do you accept visaor payapl  please contact me with EMAIL here you can see stores that i working with in israel  WEBSITE</td>\n",
       "      <td>0</td>\n",
       "    </tr>\n",
       "    <tr>\n",
       "      <th>1</th>\n",
       "      <td>a buyer with the below contact info has just registered for our upcoming hktdc hong kong international lighting fair spring edition and is interested in your product as shown you may want to contact himher and prepare in advance for more detailed discussion during the fair period  best regards hong kong trade development council</td>\n",
       "      <td>0</td>\n",
       "    </tr>\n",
       "    <tr>\n",
       "      <th>2</th>\n",
       "      <td>please quote me the latest price of the above product  purchase quantity 10000 pieces  hello    we are interested in your products and we are taking this opportunity to request your firm to submit the quotation best price for the supply of your product    reply us back to email  EMAIL   quick response will be appreciated    regards  gwendolyn cortez</td>\n",
       "      <td>0</td>\n",
       "    </tr>\n",
       "    <tr>\n",
       "      <th>3</th>\n",
       "      <td>please quote me the latest price of the above product  purchase quantity 3000 pieces    sir            we are interested to purchase your supplyment product        kindly send your quotations and price list to us        for more details about this order please contactmr desmond attah    EMAIL EMAIL   waiting to hear from you asap        thanks      ms rita izuchukwu    manager lenient consultant agency      email EMAIL EMAIL</td>\n",
       "      <td>0</td>\n",
       "    </tr>\n",
       "    <tr>\n",
       "      <th>4</th>\n",
       "      <td>please quote me the latest price of the above product  purchase quantity 7000 pieces  hello    i am interested in your product kindly send me the following bellownbsp    1 quote your prices  2 payment termnbsp  3 shipment term      reply via my emailnbsp</td>\n",
       "      <td>0</td>\n",
       "    </tr>\n",
       "    <tr>\n",
       "      <th>5</th>\n",
       "      <td>would like to know moq</td>\n",
       "      <td>0</td>\n",
       "    </tr>\n",
       "    <tr>\n",
       "      <th>6</th>\n",
       "      <td>good day    my name is john paul from russia i will like to make an inquiry on your  product please inform me on minimum and maximum order quantity and latest  product catalog send it asap so that we can place a trial order    contact email EMAIL   regards    john paul  ericsson russia inc  locality mississauga ontario  street address2002425 matheson blvd e  country russia  postal code l4w 5k4  phone 7 905 2682005  fax 7 905 2682010  reply reply to all</td>\n",
       "      <td>0</td>\n",
       "    </tr>\n",
       "    <tr>\n",
       "      <th>7</th>\n",
       "      <td>good day my name is rita mackenzie from canada i will like to make an inquiry on your product please inform me on minimum and maximum order quantity and latest product catalog send it asap so that we can place a trial order contact email EMAILregards rita mackenzie ericsson canada inc locality mississauga ontario street address2002425 matheson blvd e country canada postal code l4w 5k4 phone1 905 2682005 fax1 905 2682010</td>\n",
       "      <td>0</td>\n",
       "    </tr>\n",
       "    <tr>\n",
       "      <th>8</th>\n",
       "      <td>please quote me the latest price of the above product  purchase quantity inquiry pieces  dear sirmadam  we are interested in purchasing your products and we sincerely hope to establish a longterm business relation with your esteemed company please kindly send me your latest catalog also inform me about the minimum order quantity delivery time or fob and payment terms warrantyplease contact us via EMAIL your early reply is highly appreciated  thank you  best regards  ____________________    mr amresh lan  companynbsp namenbsp  apexnbsp global ltd  14 jlnkesidang 3680 jalan raja chulan  50200 kuala lumpur kuala lumpur  malaysia  tel60102149435</td>\n",
       "      <td>0</td>\n",
       "    </tr>\n",
       "    <tr>\n",
       "      <th>9</th>\n",
       "      <td>hi  can you please make me your kind quotation for products  send me cataloguenbspnbsp kind price time of delivery and packing</td>\n",
       "      <td>0</td>\n",
       "    </tr>\n",
       "  </tbody>\n",
       "</table>\n",
       "</div>"
      ],
      "text/plain": [
       "                                                                                                                                                                                                                                                                                                                                                                                                                                                                                                                                                                                                                                                                   p_message  \\\n",
       "0  please quote me the latest price of the above product  purchase quantity 10 pieces  hello  i need 10 pieces of this item can you ship it to israel  and do you accept visaor payapl  please contact me with EMAIL here you can see stores that i working with in israel  WEBSITE                                                                                                                                                                                                                                                                                                                                                                                            \n",
       "1  a buyer with the below contact info has just registered for our upcoming hktdc hong kong international lighting fair spring edition and is interested in your product as shown you may want to contact himher and prepare in advance for more detailed discussion during the fair period  best regards hong kong trade development council                                                                                                                                                                                                                                                                                                                                  \n",
       "2  please quote me the latest price of the above product  purchase quantity 10000 pieces  hello    we are interested in your products and we are taking this opportunity to request your firm to submit the quotation best price for the supply of your product    reply us back to email  EMAIL   quick response will be appreciated    regards  gwendolyn cortez                                                                                                                                                                                                                                                                                                             \n",
       "3  please quote me the latest price of the above product  purchase quantity 3000 pieces    sir            we are interested to purchase your supplyment product        kindly send your quotations and price list to us        for more details about this order please contactmr desmond attah    EMAIL EMAIL   waiting to hear from you asap        thanks      ms rita izuchukwu    manager lenient consultant agency      email EMAIL EMAIL                                                                                                                                                                                                                                \n",
       "4  please quote me the latest price of the above product  purchase quantity 7000 pieces  hello    i am interested in your product kindly send me the following bellownbsp    1 quote your prices  2 payment termnbsp  3 shipment term      reply via my emailnbsp                                                                                                                                                                                                                                                                                                                                                                                                              \n",
       "5  would like to know moq                                                                                                                                                                                                                                                                                                                                                                                                                                                                                                                                                                                                                                                      \n",
       "6  good day    my name is john paul from russia i will like to make an inquiry on your  product please inform me on minimum and maximum order quantity and latest  product catalog send it asap so that we can place a trial order    contact email EMAIL   regards    john paul  ericsson russia inc  locality mississauga ontario  street address2002425 matheson blvd e  country russia  postal code l4w 5k4  phone 7 905 2682005  fax 7 905 2682010  reply reply to all                                                                                                                                                                                                    \n",
       "7  good day my name is rita mackenzie from canada i will like to make an inquiry on your product please inform me on minimum and maximum order quantity and latest product catalog send it asap so that we can place a trial order contact email EMAILregards rita mackenzie ericsson canada inc locality mississauga ontario street address2002425 matheson blvd e country canada postal code l4w 5k4 phone1 905 2682005 fax1 905 2682010                                                                                                                                                                                                                                     \n",
       "8  please quote me the latest price of the above product  purchase quantity inquiry pieces  dear sirmadam  we are interested in purchasing your products and we sincerely hope to establish a longterm business relation with your esteemed company please kindly send me your latest catalog also inform me about the minimum order quantity delivery time or fob and payment terms warrantyplease contact us via EMAIL your early reply is highly appreciated  thank you  best regards  ____________________    mr amresh lan  companynbsp namenbsp  apexnbsp global ltd  14 jlnkesidang 3680 jalan raja chulan  50200 kuala lumpur kuala lumpur  malaysia  tel60102149435   \n",
       "9  hi  can you please make me your kind quotation for products  send me cataloguenbspnbsp kind price time of delivery and packing                                                                                                                                                                                                                                                                                                                                                                                                                                                                                                                                              \n",
       "\n",
       "   spam  \n",
       "0  0     \n",
       "1  0     \n",
       "2  0     \n",
       "3  0     \n",
       "4  0     \n",
       "5  0     \n",
       "6  0     \n",
       "7  0     \n",
       "8  0     \n",
       "9  0     "
      ]
     },
     "execution_count": 407,
     "metadata": {},
     "output_type": "execute_result"
    }
   ],
   "source": [
    "dfe=dfe[['p_message','spam']]\n",
    "dfe[dfe['spam']==0].head(10)"
   ]
  },
  {
   "cell_type": "code",
   "execution_count": 408,
   "metadata": {},
   "outputs": [
    {
     "data": {
      "text/html": [
       "<div>\n",
       "<style scoped>\n",
       "    .dataframe tbody tr th:only-of-type {\n",
       "        vertical-align: middle;\n",
       "    }\n",
       "\n",
       "    .dataframe tbody tr th {\n",
       "        vertical-align: top;\n",
       "    }\n",
       "\n",
       "    .dataframe thead th {\n",
       "        text-align: right;\n",
       "    }\n",
       "</style>\n",
       "<table border=\"1\" class=\"dataframe\">\n",
       "  <thead>\n",
       "    <tr style=\"text-align: right;\">\n",
       "      <th></th>\n",
       "      <th>p_message</th>\n",
       "      <th>spam</th>\n",
       "    </tr>\n",
       "  </thead>\n",
       "  <tbody>\n",
       "    <tr>\n",
       "      <th>16</th>\n",
       "      <td>hi  we are a company based in izmir turkey our main businesses are sea cucumber topshell octopus cuttlefish we produce all the products we sell processing over 200 tons of sea cucumber yearly we have three kinds of sea cucumbers holothuria mammata spiky holothuria mammata nonspiky holothuria polii  our dried products are all shaped well straight with no calcium and no smell of the highest quality  if you have an interest you can also visit our website WEBSITEpany and products please do not hesitate to contact us if you need further assistance</td>\n",
       "      <td>1</td>\n",
       "    </tr>\n",
       "    <tr>\n",
       "      <th>31</th>\n",
       "      <td>how are you  professional custommade silicone products of high quality and low price fast delivery welcome a trial order can be customized according to your logo at WEBSITE  the contact miss chen qq 18022738145 2911356103 sky loxiangju</td>\n",
       "      <td>1</td>\n",
       "    </tr>\n",
       "    <tr>\n",
       "      <th>32</th>\n",
       "      <td>dear sirmadam    i am eve export manager from jsc eksportus lithuania our company mainly exports honey breakfast cereals porridge and other healthy snacks our all products are high quality with more than 9 month shelf life all products are made in europe  please sent me email if you are interested to see our commercial offers    best regards    evejsc eksportus  EMAIL skype id ieva eksportus</td>\n",
       "      <td>1</td>\n",
       "    </tr>\n",
       "    <tr>\n",
       "      <th>47</th>\n",
       "      <td>dearnbsp manager  have a good day  we are the manufacture of canned fruitour main products are  canned yellow peach  canned apple sauce  canned solid pack sliced apples  if you have any needpls contact uswe will offer the best price to you  best regards  mandy</td>\n",
       "      <td>1</td>\n",
       "    </tr>\n",
       "    <tr>\n",
       "      <th>75</th>\n",
       "      <td>we are pampn group 2013 co ltd located in bangkok thailand we are manufacturer to produce the extra virgin coconut oil we are kindly to negotiate with all the customers requestednbspour extra virgin coconut oil is a premium grade and 100 natural we just launched our new brand named quotsukniyomquot and we are seeking the partners all over the world we also do oem for the customers as well</td>\n",
       "      <td>1</td>\n",
       "    </tr>\n",
       "    <tr>\n",
       "      <th>76</th>\n",
       "      <td>dear sirmadam    i am eve export manager from jsc eksportus lithuania our company mainly exports honey breakfast cereals porridge and other healthy snacks our all products are high quality with more than 9 month shelf life all products are made in europe  please sent me email if you are interested to see our commercial offers    best regards    evejsc eksportus  EMAIL skype id ieva eksportus</td>\n",
       "      <td>1</td>\n",
       "    </tr>\n",
       "    <tr>\n",
       "      <th>88</th>\n",
       "      <td>hi supplier    wish you happy new year    irsquom suraj planning manager base on sri lanka nbspand working in idealpack limited in china below i mentioned our office address in dongguan and we are located in hong kong china germany turkey sri lanka dubai    many large and world renowned brands marking their presence mainly in europe the customer base continues to grow with the expansion of the textile industry and the market growth our brand portfolio extends to more than 20 customers around europe    we are doing many paper products and we need to find new packing partner in china so we would like to meet you and arrange meeting within 09th jan and 20th jan so please get back to us with your details    email address ndash EMAIL contact number  94 710 679 400      our china office address    room 211 2 floor no 1 building   techology industrial park hua kebo creative garden  shida road da lingshan town  dongguan city guanggong province  china    please see below contact details in our china office    county manager  EMAIL contact number  861 364 282 8527</td>\n",
       "      <td>1</td>\n",
       "    </tr>\n",
       "    <tr>\n",
       "      <th>122</th>\n",
       "      <td>please quote me the latest price of the above product  purchase quantity gold pieces  hi  we are royal family from ghana here  we have gold for sale or exchange with equipment  if the buyer cannbsp also sign agreement so  that we can give you for credit after you sell you give us our money  we have 300 gold bar now23caratnbsp 97to99  we are selling it whole sale price  get back to me for more details  we can also give you commission if you give us buyer and you be our front person  get back to me if we can do business or  not    write to my private email EMAIL</td>\n",
       "      <td>1</td>\n",
       "    </tr>\n",
       "    <tr>\n",
       "      <th>124</th>\n",
       "      <td>dear jinhua ivy home textile co ltdbrhappy new yearbrbrthis is dongming shi from ningbo mingyi toysltd i am hereby sincerely to invite you to visit our booth on hong kong toys games fair 2017 our booth number is 3gd36brbrmain products outdoor children activities toys br       balance bikebr       children trikebr       children tent  brbrabout mingtoysbr ningbo mingyi toys coltd specializes in manufacture medium and high grade kids tricycle outdoor activities toys within 20 years manufacture experience it is located in the east china coast and next to the east china sea which is in a very convenience marine transportation ningbo mingyi toys coltd owns 20000 square meter production base with fully automatic assembly line and automatic powder spray assembly line it is the assigned supplier of hape metal products also has a long term cooperative partner with ikea brbrbrsee you in hong kong brbrdongming shi</td>\n",
       "      <td>1</td>\n",
       "    </tr>\n",
       "    <tr>\n",
       "      <th>139</th>\n",
       "      <td>have you ever thought of enhance your product accessories line like 3d printing eyewear collection    3d printing is a cutting edge technology which has no moq and unlimited styles in design    we are professional design team in eyewear design and all of our designer collection eyewear are made by 3d printing we do not have any stocks and we can open cooperation with all retailers wholesalers distributors and factories if you have a brand we can make a collection for you you can sell easily to your customers    we are now building up our partners welcome you be one of our partners    i am jeffrey leung eyewear design director in hk hope we can have cooperation    if you want to discuss feel free to contact me below are my contact info i can send you my designer team collection and styles    email EMAIL   mobile whatsapp 852 9237 8778    wechat jeffreyleung28    thank you    jeffrey leung eyewear</td>\n",
       "      <td>1</td>\n",
       "    </tr>\n",
       "  </tbody>\n",
       "</table>\n",
       "</div>"
      ],
      "text/plain": [
       "                                                                                                                                                                                                                                                                                                                                                                                                                                                                                                                                                                                                                                                                                                                                                                                                                                                                                                                                                                                                                                                                                                          p_message  \\\n",
       "16   hi  we are a company based in izmir turkey our main businesses are sea cucumber topshell octopus cuttlefish we produce all the products we sell processing over 200 tons of sea cucumber yearly we have three kinds of sea cucumbers holothuria mammata spiky holothuria mammata nonspiky holothuria polii  our dried products are all shaped well straight with no calcium and no smell of the highest quality  if you have an interest you can also visit our website WEBSITEpany and products please do not hesitate to contact us if you need further assistance                                                                                                                                                                                                                                                                                                                                                                                                                                                                                                                                             \n",
       "31   how are you  professional custommade silicone products of high quality and low price fast delivery welcome a trial order can be customized according to your logo at WEBSITE  the contact miss chen qq 18022738145 2911356103 sky loxiangju                                                                                                                                                                                                                                                                                                                                                                                                                                                                                                                                                                                                                                                                                                                                                                                                                                                                      \n",
       "32   dear sirmadam    i am eve export manager from jsc eksportus lithuania our company mainly exports honey breakfast cereals porridge and other healthy snacks our all products are high quality with more than 9 month shelf life all products are made in europe  please sent me email if you are interested to see our commercial offers    best regards    evejsc eksportus  EMAIL skype id ieva eksportus                                                                                                                                                                                                                                                                                                                                                                                                                                                                                                                                                                                                                                                                                                       \n",
       "47   dearnbsp manager  have a good day  we are the manufacture of canned fruitour main products are  canned yellow peach  canned apple sauce  canned solid pack sliced apples  if you have any needpls contact uswe will offer the best price to you  best regards  mandy                                                                                                                                                                                                                                                                                                                                                                                                                                                                                                                                                                                                                                                                                                                                                                                                                                             \n",
       "75   we are pampn group 2013 co ltd located in bangkok thailand we are manufacturer to produce the extra virgin coconut oil we are kindly to negotiate with all the customers requestednbspour extra virgin coconut oil is a premium grade and 100 natural we just launched our new brand named quotsukniyomquot and we are seeking the partners all over the world we also do oem for the customers as well                                                                                                                                                                                                                                                                                                                                                                                                                                                                                                                                                                                                                                                                                                          \n",
       "76   dear sirmadam    i am eve export manager from jsc eksportus lithuania our company mainly exports honey breakfast cereals porridge and other healthy snacks our all products are high quality with more than 9 month shelf life all products are made in europe  please sent me email if you are interested to see our commercial offers    best regards    evejsc eksportus  EMAIL skype id ieva eksportus                                                                                                                                                                                                                                                                                                                                                                                                                                                                                                                                                                                                                                                                                                       \n",
       "88   hi supplier    wish you happy new year    irsquom suraj planning manager base on sri lanka nbspand working in idealpack limited in china below i mentioned our office address in dongguan and we are located in hong kong china germany turkey sri lanka dubai    many large and world renowned brands marking their presence mainly in europe the customer base continues to grow with the expansion of the textile industry and the market growth our brand portfolio extends to more than 20 customers around europe    we are doing many paper products and we need to find new packing partner in china so we would like to meet you and arrange meeting within 09th jan and 20th jan so please get back to us with your details    email address ndash EMAIL contact number  94 710 679 400      our china office address    room 211 2 floor no 1 building   techology industrial park hua kebo creative garden  shida road da lingshan town  dongguan city guanggong province  china    please see below contact details in our china office    county manager  EMAIL contact number  861 364 282 8527   \n",
       "122  please quote me the latest price of the above product  purchase quantity gold pieces  hi  we are royal family from ghana here  we have gold for sale or exchange with equipment  if the buyer cannbsp also sign agreement so  that we can give you for credit after you sell you give us our money  we have 300 gold bar now23caratnbsp 97to99  we are selling it whole sale price  get back to me for more details  we can also give you commission if you give us buyer and you be our front person  get back to me if we can do business or  not    write to my private email EMAIL                                                                                                                                                                                                                                                                                                                                                                                                                                                                                                                           \n",
       "124  dear jinhua ivy home textile co ltdbrhappy new yearbrbrthis is dongming shi from ningbo mingyi toysltd i am hereby sincerely to invite you to visit our booth on hong kong toys games fair 2017 our booth number is 3gd36brbrmain products outdoor children activities toys br       balance bikebr       children trikebr       children tent  brbrabout mingtoysbr ningbo mingyi toys coltd specializes in manufacture medium and high grade kids tricycle outdoor activities toys within 20 years manufacture experience it is located in the east china coast and next to the east china sea which is in a very convenience marine transportation ningbo mingyi toys coltd owns 20000 square meter production base with fully automatic assembly line and automatic powder spray assembly line it is the assigned supplier of hape metal products also has a long term cooperative partner with ikea brbrbrsee you in hong kong brbrdongming shi                                                                                                                                                             \n",
       "139  have you ever thought of enhance your product accessories line like 3d printing eyewear collection    3d printing is a cutting edge technology which has no moq and unlimited styles in design    we are professional design team in eyewear design and all of our designer collection eyewear are made by 3d printing we do not have any stocks and we can open cooperation with all retailers wholesalers distributors and factories if you have a brand we can make a collection for you you can sell easily to your customers    we are now building up our partners welcome you be one of our partners    i am jeffrey leung eyewear design director in hk hope we can have cooperation    if you want to discuss feel free to contact me below are my contact info i can send you my designer team collection and styles    email EMAIL   mobile whatsapp 852 9237 8778    wechat jeffreyleung28    thank you    jeffrey leung eyewear                                                                                                                                                                     \n",
       "\n",
       "     spam  \n",
       "16   1     \n",
       "31   1     \n",
       "32   1     \n",
       "47   1     \n",
       "75   1     \n",
       "76   1     \n",
       "88   1     \n",
       "122  1     \n",
       "124  1     \n",
       "139  1     "
      ]
     },
     "execution_count": 408,
     "metadata": {},
     "output_type": "execute_result"
    }
   ],
   "source": [
    "dfe[dfe['spam']==1].head(10)"
   ]
  },
  {
   "cell_type": "code",
   "execution_count": 409,
   "metadata": {},
   "outputs": [
    {
     "data": {
      "text/plain": [
       "array([0, 1], dtype=int64)"
      ]
     },
     "execution_count": 409,
     "metadata": {},
     "output_type": "execute_result"
    }
   ],
   "source": [
    "dfe['spam'].unique()"
   ]
  },
  {
   "cell_type": "markdown",
   "metadata": {},
   "source": [
    "Split Dataset in Train:Test at a 80:20 ratio"
   ]
  },
  {
   "cell_type": "code",
   "execution_count": 410,
   "metadata": {},
   "outputs": [],
   "source": [
    "from sklearn.model_selection import train_test_split"
   ]
  },
  {
   "cell_type": "code",
   "execution_count": 411,
   "metadata": {},
   "outputs": [],
   "source": [
    "X_train,X_test,y_train,y_test = train_test_split(dfe[\"p_message\"],dfe[\"spam\"], test_size = 0.2, random_state = 10)"
   ]
  },
  {
   "cell_type": "code",
   "execution_count": 412,
   "metadata": {},
   "outputs": [
    {
     "name": "stdout",
     "output_type": "stream",
     "text": [
      "(1257,)\n",
      "(315,)\n",
      "(1257,)\n",
      "(315,)\n"
     ]
    }
   ],
   "source": [
    "print(X_train.shape)\n",
    "print(X_test.shape)\n",
    "print(y_train.shape)\n",
    "print(y_test.shape)"
   ]
  },
  {
   "cell_type": "code",
   "execution_count": 413,
   "metadata": {},
   "outputs": [
    {
     "data": {
      "text/plain": [
       "CountVectorizer(analyzer='word', binary=False, decode_error='strict',\n",
       "        dtype=<class 'numpy.int64'>, encoding='utf-8', input='content',\n",
       "        lowercase=True, max_df=1.0, max_features=None, min_df=1,\n",
       "        ngram_range=(1, 1), preprocessor=None, stop_words=None,\n",
       "        strip_accents=None, token_pattern='(?u)\\\\b\\\\w\\\\w+\\\\b',\n",
       "        tokenizer=None, vocabulary=None)"
      ]
     },
     "execution_count": 413,
     "metadata": {},
     "output_type": "execute_result"
    }
   ],
   "source": [
    "from sklearn.feature_extraction.text import CountVectorizer\n",
    "vect = CountVectorizer()\n",
    "vect.fit(X_train)"
   ]
  },
  {
   "cell_type": "code",
   "execution_count": 414,
   "metadata": {},
   "outputs": [
    {
     "name": "stdout",
     "output_type": "stream",
     "text": [
      "['00', '0002nbsp', '004', '0091', '00974', '01', '011', '01156', '01412521017', '01978', '027', '030', '039', '0456', '04674', '0495', '05719', '0681', '07031', '07039']\n",
      "['yourfaithfull', 'yournbsp', 'yournbspexpression', 'yournbspproducts', 'yours', 'yourwireless', 'youtom', 'youtube', 'youwattford', 'zahra', 'zahrastrong', 'zemin', 'zheng', 'zhengcheng', 'zhongshan', 'zhongwang', 'zhou', 'zip', 'zip17350', 'zone']\n"
     ]
    }
   ],
   "source": [
    "print(vect.get_feature_names()[0:20])\n",
    "print(vect.get_feature_names()[-20:])"
   ]
  },
  {
   "cell_type": "code",
   "execution_count": 415,
   "metadata": {},
   "outputs": [],
   "source": [
    "X_train_df = vect.transform(X_train)"
   ]
  },
  {
   "cell_type": "code",
   "execution_count": 416,
   "metadata": {},
   "outputs": [],
   "source": [
    "X_test_df = vect.transform(X_test)"
   ]
  },
  {
   "cell_type": "code",
   "execution_count": 417,
   "metadata": {},
   "outputs": [
    {
     "data": {
      "text/plain": [
       "scipy.sparse.csr.csr_matrix"
      ]
     },
     "execution_count": 417,
     "metadata": {},
     "output_type": "execute_result"
    }
   ],
   "source": [
    "type(X_test_df)"
   ]
  },
  {
   "cell_type": "code",
   "execution_count": 418,
   "metadata": {},
   "outputs": [],
   "source": [
    "norm_words = ''\n",
    "spam_words = ''\n",
    "spam = dfe[dfe.spam == 1]\n",
    "norm = dfe[dfe.spam == 0]"
   ]
  },
  {
   "cell_type": "code",
   "execution_count": 419,
   "metadata": {},
   "outputs": [
    {
     "name": "stdout",
     "output_type": "stream",
     "text": [
      "[nltk_data] Downloading package punkt to\n",
      "[nltk_data]     C:\\Users\\sholng\\AppData\\Roaming\\nltk_data...\n",
      "[nltk_data]   Package punkt is already up-to-date!\n"
     ]
    },
    {
     "data": {
      "text/plain": [
       "True"
      ]
     },
     "execution_count": 419,
     "metadata": {},
     "output_type": "execute_result"
    }
   ],
   "source": [
    "import nltk\n",
    "from nltk.corpus import stopwords\n",
    "nltk.download('punkt')"
   ]
  },
  {
   "cell_type": "code",
   "execution_count": 420,
   "metadata": {},
   "outputs": [],
   "source": [
    "for val in spam.p_message:\n",
    "    text = val.lower()\n",
    "    tokens = nltk.word_tokenize(text)\n",
    "    #tokens = [word for word in tokens if word not in stopwords.words('english')]\n",
    "    for words in tokens:\n",
    "        spam_words = spam_words + words + ' '\n",
    "        \n",
    "for val in norm.p_message:\n",
    "    text = val.lower()\n",
    "    tokens = nltk.word_tokenize(text)\n",
    "    for words in tokens:\n",
    "        norm_words = norm_words + words + ' '"
   ]
  },
  {
   "cell_type": "markdown",
   "metadata": {},
   "source": [
    "Display some of the highest occurance spam words"
   ]
  },
  {
   "cell_type": "code",
   "execution_count": 421,
   "metadata": {},
   "outputs": [],
   "source": [
    "from wordcloud import WordCloud"
   ]
  },
  {
   "cell_type": "code",
   "execution_count": 422,
   "metadata": {},
   "outputs": [],
   "source": [
    "spam_wordcloud = WordCloud(width=600, height=400).generate(spam_words)\n",
    "norm_wordcloud = WordCloud(width=600, height=400).generate(norm_words)"
   ]
  },
  {
   "cell_type": "code",
   "execution_count": 423,
   "metadata": {},
   "outputs": [
    {
     "data": {
      "image/png": "[encoded data removed]",
      "text/plain": [
       "<Figure size 720x576 with 1 Axes>"
      ]
     },
     "metadata": {},
     "output_type": "display_data"
    }
   ],
   "source": [
    "#Spam Word cloud\n",
    "plt.figure( figsize=(10,8), facecolor='k')\n",
    "plt.imshow(spam_wordcloud)\n",
    "plt.axis(\"off\")\n",
    "plt.tight_layout(pad=0)\n",
    "plt.show()"
   ]
  },
  {
   "cell_type": "markdown",
   "metadata": {},
   "source": [
    "Use Naive Bayes Classifer\n",
    "https://en.wikipedia.org/wiki/Naive_Bayes_classifier"
   ]
  },
  {
   "cell_type": "code",
   "execution_count": 424,
   "metadata": {},
   "outputs": [
    {
     "data": {
      "text/plain": [
       "MultinomialNB(alpha=1.0, class_prior=None, fit_prior=True)"
      ]
     },
     "execution_count": 424,
     "metadata": {},
     "output_type": "execute_result"
    }
   ],
   "source": [
    "prediction = dict()\n",
    "from sklearn.naive_bayes import MultinomialNB\n",
    "model = MultinomialNB()\n",
    "model.fit(X_train_df,y_train)"
   ]
  },
  {
   "cell_type": "code",
   "execution_count": 425,
   "metadata": {},
   "outputs": [],
   "source": [
    "prediction[\"Multinomial\"] = model.predict(X_test_df)"
   ]
  },
  {
   "cell_type": "code",
   "execution_count": 426,
   "metadata": {},
   "outputs": [],
   "source": [
    "from sklearn.metrics import accuracy_score,confusion_matrix,classification_report"
   ]
  },
  {
   "cell_type": "code",
   "execution_count": 427,
   "metadata": {},
   "outputs": [
    {
     "data": {
      "text/plain": [
       "0.9746031746031746"
      ]
     },
     "execution_count": 427,
     "metadata": {},
     "output_type": "execute_result"
    }
   ],
   "source": [
    "accuracy_score(y_test,prediction[\"Multinomial\"])"
   ]
  },
  {
   "cell_type": "markdown",
   "metadata": {},
   "source": [
    "Use Logistic Regression"
   ]
  },
  {
   "cell_type": "code",
   "execution_count": 428,
   "metadata": {},
   "outputs": [
    {
     "data": {
      "text/plain": [
       "LogisticRegression(C=1.0, class_weight=None, dual=False, fit_intercept=True,\n",
       "          intercept_scaling=1, max_iter=100, multi_class='ovr', n_jobs=1,\n",
       "          penalty='l2', random_state=None, solver='liblinear', tol=0.0001,\n",
       "          verbose=0, warm_start=False)"
      ]
     },
     "execution_count": 428,
     "metadata": {},
     "output_type": "execute_result"
    }
   ],
   "source": [
    "from sklearn.linear_model import LogisticRegression\n",
    "model = LogisticRegression()\n",
    "model.fit(X_train_df,y_train)"
   ]
  },
  {
   "cell_type": "code",
   "execution_count": 429,
   "metadata": {},
   "outputs": [],
   "source": [
    "prediction[\"Logistic\"] = model.predict(X_test_df)"
   ]
  },
  {
   "cell_type": "code",
   "execution_count": 430,
   "metadata": {},
   "outputs": [
    {
     "data": {
      "text/plain": [
       "0.9904761904761905"
      ]
     },
     "execution_count": 430,
     "metadata": {},
     "output_type": "execute_result"
    }
   ],
   "source": [
    "accuracy_score(y_test,prediction[\"Logistic\"])"
   ]
  },
  {
   "cell_type": "markdown",
   "metadata": {},
   "source": [
    "Use KNN"
   ]
  },
  {
   "cell_type": "code",
   "execution_count": 431,
   "metadata": {},
   "outputs": [
    {
     "data": {
      "text/plain": [
       "KNeighborsClassifier(algorithm='auto', leaf_size=30, metric='minkowski',\n",
       "           metric_params=None, n_jobs=1, n_neighbors=2, p=2,\n",
       "           weights='uniform')"
      ]
     },
     "execution_count": 431,
     "metadata": {},
     "output_type": "execute_result"
    }
   ],
   "source": [
    "from sklearn.neighbors import KNeighborsClassifier\n",
    "model = KNeighborsClassifier(n_neighbors=2)\n",
    "model.fit(X_train_df,y_train)"
   ]
  },
  {
   "cell_type": "code",
   "execution_count": 432,
   "metadata": {},
   "outputs": [],
   "source": [
    "prediction[\"knn\"] = model.predict(X_test_df)"
   ]
  },
  {
   "cell_type": "code",
   "execution_count": 433,
   "metadata": {},
   "outputs": [
    {
     "data": {
      "text/plain": [
       "0.9841269841269841"
      ]
     },
     "execution_count": 433,
     "metadata": {},
     "output_type": "execute_result"
    }
   ],
   "source": [
    "accuracy_score(y_test,prediction[\"knn\"])"
   ]
  },
  {
   "cell_type": "markdown",
   "metadata": {},
   "source": [
    "Using Ensemble"
   ]
  },
  {
   "cell_type": "code",
   "execution_count": 434,
   "metadata": {},
   "outputs": [
    {
     "data": {
      "text/plain": [
       "RandomForestClassifier(bootstrap=True, class_weight=None, criterion='gini',\n",
       "            max_depth=None, max_features='auto', max_leaf_nodes=None,\n",
       "            min_impurity_decrease=0.0, min_impurity_split=None,\n",
       "            min_samples_leaf=1, min_samples_split=2,\n",
       "            min_weight_fraction_leaf=0.0, n_estimators=10, n_jobs=1,\n",
       "            oob_score=False, random_state=None, verbose=0,\n",
       "            warm_start=False)"
      ]
     },
     "execution_count": 434,
     "metadata": {},
     "output_type": "execute_result"
    }
   ],
   "source": [
    "from sklearn.ensemble import RandomForestClassifier\n",
    "model = RandomForestClassifier()\n",
    "model.fit(X_train_df,y_train)"
   ]
  },
  {
   "cell_type": "code",
   "execution_count": 435,
   "metadata": {},
   "outputs": [],
   "source": [
    "prediction[\"random_forest\"] = model.predict(X_test_df)"
   ]
  },
  {
   "cell_type": "code",
   "execution_count": 436,
   "metadata": {},
   "outputs": [
    {
     "data": {
      "text/plain": [
       "0.9873015873015873"
      ]
     },
     "execution_count": 436,
     "metadata": {},
     "output_type": "execute_result"
    }
   ],
   "source": [
    "accuracy_score(y_test,prediction[\"random_forest\"])"
   ]
  },
  {
   "cell_type": "markdown",
   "metadata": {},
   "source": [
    "Using Adaptive Boost Classifer"
   ]
  },
  {
   "cell_type": "code",
   "execution_count": 437,
   "metadata": {},
   "outputs": [
    {
     "data": {
      "text/plain": [
       "AdaBoostClassifier(algorithm='SAMME.R', base_estimator=None,\n",
       "          learning_rate=1.0, n_estimators=50, random_state=None)"
      ]
     },
     "execution_count": 437,
     "metadata": {},
     "output_type": "execute_result"
    }
   ],
   "source": [
    "from sklearn.ensemble import AdaBoostClassifier\n",
    "model = AdaBoostClassifier()\n",
    "model.fit(X_train_df,y_train)"
   ]
  },
  {
   "cell_type": "code",
   "execution_count": 438,
   "metadata": {},
   "outputs": [],
   "source": [
    "prediction[\"adaboost\"] = model.predict(X_test_df)"
   ]
  },
  {
   "cell_type": "code",
   "execution_count": 439,
   "metadata": {},
   "outputs": [
    {
     "data": {
      "text/plain": [
       "0.9936507936507937"
      ]
     },
     "execution_count": 439,
     "metadata": {},
     "output_type": "execute_result"
    }
   ],
   "source": [
    "accuracy_score(y_test,prediction[\"adaboost\"])"
   ]
  },
  {
   "cell_type": "markdown",
   "metadata": {},
   "source": [
    "Tuning k-NN using GridSearchCV\n",
    "\n",
    "\n",
    "to find number of group has the best result"
   ]
  },
  {
   "cell_type": "code",
   "execution_count": 440,
   "metadata": {},
   "outputs": [],
   "source": [
    "from sklearn.model_selection import GridSearchCV"
   ]
  },
  {
   "cell_type": "code",
   "execution_count": 441,
   "metadata": {},
   "outputs": [],
   "source": [
    "k_range = np.arange(1,30)"
   ]
  },
  {
   "cell_type": "code",
   "execution_count": 442,
   "metadata": {},
   "outputs": [
    {
     "data": {
      "text/plain": [
       "array([ 1,  2,  3,  4,  5,  6,  7,  8,  9, 10, 11, 12, 13, 14, 15, 16, 17,\n",
       "       18, 19, 20, 21, 22, 23, 24, 25, 26, 27, 28, 29])"
      ]
     },
     "execution_count": 442,
     "metadata": {},
     "output_type": "execute_result"
    }
   ],
   "source": [
    "k_range"
   ]
  },
  {
   "cell_type": "code",
   "execution_count": 443,
   "metadata": {},
   "outputs": [
    {
     "name": "stdout",
     "output_type": "stream",
     "text": [
      "{'n_neighbors': array([ 1,  2,  3,  4,  5,  6,  7,  8,  9, 10, 11, 12, 13, 14, 15, 16, 17,\n",
      "       18, 19, 20, 21, 22, 23, 24, 25, 26, 27, 28, 29])}\n"
     ]
    }
   ],
   "source": [
    "param_grid = dict(n_neighbors=k_range)\n",
    "print(param_grid)"
   ]
  },
  {
   "cell_type": "code",
   "execution_count": 444,
   "metadata": {},
   "outputs": [
    {
     "data": {
      "text/plain": [
       "GridSearchCV(cv=None, error_score='raise',\n",
       "       estimator=KNeighborsClassifier(algorithm='auto', leaf_size=30, metric='minkowski',\n",
       "           metric_params=None, n_jobs=1, n_neighbors=5, p=2,\n",
       "           weights='uniform'),\n",
       "       fit_params=None, iid=True, n_jobs=1,\n",
       "       param_grid={'n_neighbors': array([ 1,  2,  3,  4,  5,  6,  7,  8,  9, 10, 11, 12, 13, 14, 15, 16, 17,\n",
       "       18, 19, 20, 21, 22, 23, 24, 25, 26, 27, 28, 29])},\n",
       "       pre_dispatch='2*n_jobs', refit=True, return_train_score='warn',\n",
       "       scoring=None, verbose=0)"
      ]
     },
     "execution_count": 444,
     "metadata": {},
     "output_type": "execute_result"
    }
   ],
   "source": [
    "model = KNeighborsClassifier()\n",
    "grid = GridSearchCV(model,param_grid)\n",
    "grid.fit(X_train_df,y_train)"
   ]
  },
  {
   "cell_type": "code",
   "execution_count": 445,
   "metadata": {},
   "outputs": [
    {
     "data": {
      "text/plain": [
       "KNeighborsClassifier(algorithm='auto', leaf_size=30, metric='minkowski',\n",
       "           metric_params=None, n_jobs=1, n_neighbors=2, p=2,\n",
       "           weights='uniform')"
      ]
     },
     "execution_count": 445,
     "metadata": {},
     "output_type": "execute_result"
    }
   ],
   "source": [
    "grid.best_estimator_"
   ]
  },
  {
   "cell_type": "code",
   "execution_count": 446,
   "metadata": {},
   "outputs": [
    {
     "data": {
      "text/plain": [
       "{'n_neighbors': 2}"
      ]
     },
     "execution_count": 446,
     "metadata": {},
     "output_type": "execute_result"
    }
   ],
   "source": [
    "grid.best_params_"
   ]
  },
  {
   "cell_type": "code",
   "execution_count": 447,
   "metadata": {},
   "outputs": [
    {
     "data": {
      "text/plain": [
       "0.9832935560859188"
      ]
     },
     "execution_count": 447,
     "metadata": {},
     "output_type": "execute_result"
    }
   ],
   "source": [
    "grid.best_score_"
   ]
  },
  {
   "cell_type": "code",
   "execution_count": 448,
   "metadata": {},
   "outputs": [
    {
     "name": "stderr",
     "output_type": "stream",
     "text": [
      "C:\\Users\\sholng\\AppData\\Local\\Continuum\\anaconda3\\lib\\site-packages\\sklearn\\model_selection\\_search.py:761: DeprecationWarning: The grid_scores_ attribute was deprecated in version 0.18 in favor of the more elaborate cv_results_ attribute. The grid_scores_ attribute will not be available from 0.20\n",
      "  DeprecationWarning)\n"
     ]
    },
    {
     "data": {
      "text/plain": [
       "[mean: 0.98091, std: 0.00390, params: {'n_neighbors': 1},\n",
       " mean: 0.98329, std: 0.00000, params: {'n_neighbors': 2},\n",
       " mean: 0.98329, std: 0.00000, params: {'n_neighbors': 3},\n",
       " mean: 0.98091, std: 0.00000, params: {'n_neighbors': 4},\n",
       " mean: 0.98091, std: 0.00000, params: {'n_neighbors': 5},\n",
       " mean: 0.98091, std: 0.00000, params: {'n_neighbors': 6},\n",
       " mean: 0.98091, std: 0.00000, params: {'n_neighbors': 7},\n",
       " mean: 0.98091, std: 0.00000, params: {'n_neighbors': 8},\n",
       " mean: 0.98091, std: 0.00000, params: {'n_neighbors': 9},\n",
       " mean: 0.98091, std: 0.00000, params: {'n_neighbors': 10},\n",
       " mean: 0.98091, std: 0.00000, params: {'n_neighbors': 11},\n",
       " mean: 0.98091, std: 0.00000, params: {'n_neighbors': 12},\n",
       " mean: 0.98091, std: 0.00000, params: {'n_neighbors': 13},\n",
       " mean: 0.98091, std: 0.00000, params: {'n_neighbors': 14},\n",
       " mean: 0.98091, std: 0.00000, params: {'n_neighbors': 15},\n",
       " mean: 0.98091, std: 0.00000, params: {'n_neighbors': 16},\n",
       " mean: 0.98091, std: 0.00000, params: {'n_neighbors': 17},\n",
       " mean: 0.98091, std: 0.00000, params: {'n_neighbors': 18},\n",
       " mean: 0.98091, std: 0.00000, params: {'n_neighbors': 19},\n",
       " mean: 0.98091, std: 0.00000, params: {'n_neighbors': 20},\n",
       " mean: 0.98091, std: 0.00000, params: {'n_neighbors': 21},\n",
       " mean: 0.98091, std: 0.00000, params: {'n_neighbors': 22},\n",
       " mean: 0.98091, std: 0.00000, params: {'n_neighbors': 23},\n",
       " mean: 0.98091, std: 0.00000, params: {'n_neighbors': 24},\n",
       " mean: 0.98091, std: 0.00000, params: {'n_neighbors': 25},\n",
       " mean: 0.98091, std: 0.00000, params: {'n_neighbors': 26},\n",
       " mean: 0.98091, std: 0.00000, params: {'n_neighbors': 27},\n",
       " mean: 0.98091, std: 0.00000, params: {'n_neighbors': 28},\n",
       " mean: 0.98091, std: 0.00000, params: {'n_neighbors': 29}]"
      ]
     },
     "execution_count": 448,
     "metadata": {},
     "output_type": "execute_result"
    }
   ],
   "source": [
    "grid.grid_scores_"
   ]
  },
  {
   "cell_type": "code",
   "execution_count": 449,
   "metadata": {},
   "outputs": [
    {
     "name": "stdout",
     "output_type": "stream",
     "text": [
      "Classification Report for Logistic\n",
      "             precision    recall  f1-score   support\n",
      "\n",
      "       Norm       0.99      1.00      1.00       310\n",
      "       Spam       0.75      0.60      0.67         5\n",
      "\n",
      "avg / total       0.99      0.99      0.99       315\n",
      "\n",
      "--- --- --- --- --- --- --- --- --- --- --- --- --- --- --- \n",
      "Classification Report for knn\n",
      "             precision    recall  f1-score   support\n",
      "\n",
      "       Norm       0.98      1.00      0.99       310\n",
      "       Spam       0.00      0.00      0.00         5\n",
      "\n",
      "avg / total       0.97      0.98      0.98       315\n",
      "\n",
      "--- --- --- --- --- --- --- --- --- --- --- --- --- --- --- \n",
      "Classification Report for Multinomial\n",
      "             precision    recall  f1-score   support\n",
      "\n",
      "       Norm       0.99      0.98      0.99       310\n",
      "       Spam       0.33      0.60      0.43         5\n",
      "\n",
      "avg / total       0.98      0.97      0.98       315\n",
      "\n",
      "--- --- --- --- --- --- --- --- --- --- --- --- --- --- --- \n",
      "Classification Report for random_forest\n",
      "             precision    recall  f1-score   support\n",
      "\n",
      "       Norm       0.99      1.00      0.99       310\n",
      "       Spam       1.00      0.20      0.33         5\n",
      "\n",
      "avg / total       0.99      0.99      0.98       315\n",
      "\n",
      "--- --- --- --- --- --- --- --- --- --- --- --- --- --- --- \n",
      "Classification Report for adaboost\n",
      "             precision    recall  f1-score   support\n",
      "\n",
      "       Norm       1.00      1.00      1.00       310\n",
      "       Spam       0.80      0.80      0.80         5\n",
      "\n",
      "avg / total       0.99      0.99      0.99       315\n",
      "\n",
      "--- --- --- --- --- --- --- --- --- --- --- --- --- --- --- \n"
     ]
    },
    {
     "name": "stderr",
     "output_type": "stream",
     "text": [
      "C:\\Users\\sholng\\AppData\\Local\\Continuum\\anaconda3\\lib\\site-packages\\sklearn\\metrics\\classification.py:1135: UndefinedMetricWarning: Precision and F-score are ill-defined and being set to 0.0 in labels with no predicted samples.\n",
      "  'precision', 'predicted', average, warn_for)\n"
     ]
    }
   ],
   "source": [
    "for test in ['Logistic','knn','Multinomial','random_forest','adaboost']:\n",
    "    print(\"Classification Report for {}\".format(test))\n",
    "    print(classification_report(y_test, prediction[test], target_names = [\"Norm\", \"Spam\"]))\n",
    "    print(\"--- \"*15)"
   ]
  },
  {
   "cell_type": "code",
   "execution_count": 450,
   "metadata": {},
   "outputs": [
    {
     "name": "stdout",
     "output_type": "stream",
     "text": [
      "             precision    recall  f1-score   support\n",
      "\n",
      "       Norm       0.99      1.00      1.00       310\n",
      "       Spam       0.75      0.60      0.67         5\n",
      "\n",
      "avg / total       0.99      0.99      0.99       315\n",
      "\n"
     ]
    }
   ],
   "source": [
    "print(classification_report(y_test, prediction['Logistic'], target_names = [\"Norm\", \"Spam\"]))"
   ]
  },
  {
   "cell_type": "code",
   "execution_count": 451,
   "metadata": {},
   "outputs": [],
   "source": [
    "conf_mat = confusion_matrix(y_test, prediction['Logistic'])\n",
    "conf_mat_normalized = conf_mat.astype('float') / conf_mat.sum(axis=1)[:, np.newaxis]"
   ]
  },
  {
   "cell_type": "code",
   "execution_count": 452,
   "metadata": {},
   "outputs": [
    {
     "data": {
      "text/plain": [
       "Text(0.5,15,'Predicted label')"
      ]
     },
     "execution_count": 452,
     "metadata": {},
     "output_type": "execute_result"
    },
    {
     "data": {
      "image/png": "[encoded data removed]",
      "text/plain": [
       "<Figure size 432x288 with 2 Axes>"
      ]
     },
     "metadata": {},
     "output_type": "display_data"
    }
   ],
   "source": [
    "sns.heatmap(conf_mat_normalized)\n",
    "plt.ylabel('True label')\n",
    "plt.xlabel('Predicted label')"
   ]
  },
  {
   "cell_type": "code",
   "execution_count": 453,
   "metadata": {},
   "outputs": [
    {
     "name": "stdout",
     "output_type": "stream",
     "text": [
      "[[309   1]\n",
      " [  2   3]]\n"
     ]
    }
   ],
   "source": [
    "print(conf_mat)"
   ]
  },
  {
   "cell_type": "code",
   "execution_count": 454,
   "metadata": {},
   "outputs": [],
   "source": [
    "pd.set_option('display.max_colwidth', -1)"
   ]
  },
  {
   "cell_type": "markdown",
   "metadata": {},
   "source": [
    "### Misclassified as Spam"
   ]
  },
  {
   "cell_type": "code",
   "execution_count": 455,
   "metadata": {},
   "outputs": [],
   "source": [
    "#X_test[y_test < prediction[\"Logistic\"] ]"
   ]
  },
  {
   "cell_type": "markdown",
   "metadata": {},
   "source": [
    "### Misclassified as Not-spam"
   ]
  },
  {
   "cell_type": "code",
   "execution_count": 456,
   "metadata": {},
   "outputs": [
    {
     "data": {
      "text/plain": [
       "31      how are you  professional custommade silicone products of high quality and low price fast delivery welcome a trial order can be customized according to your logo at WEBSITE  the contact miss chen qq 18022738145 2911356103 sky loxiangju                                                                                                                                                                                                                                                                                                                                                                                                                                                                                                                                                                                                                                                                                                                                                                                                      \n",
       "1191    please quote me the latest price of the above product  purchase quantity 1000 pieces  dear sirsmadam    i am do xuan hoa from tan luc south trading amp service coltd  nbsp  we are the importer and wholesaler of toys in viet nam with various channels of distribution such as gt channel general trade channel mt channel modern trade channel book store chains special toy store chains ecommerce     nbsp  we are now distributing for famous brands from eu such as cobi  construction toys from poland miniland  education toys from spain simm spielwaren  brand  lena from germany woma construction toys  welly diecastnbsp  from china     nbsp  we are very interested in the item of quot rc car quot could you please give us the offer for this item and related ones and other related sale termsconditions  we would like to distribute this item in vietnam market  nbspnbspnbspnbspnbspnbspnbspnbspnbspnbspnbspnbspnbspnbspnbspnbspnbspnbspnbsp  i am looking forward to hearing from you soon    thank you and best regards\n",
       "Name: p_message, dtype: object"
      ]
     },
     "execution_count": 456,
     "metadata": {},
     "output_type": "execute_result"
    }
   ],
   "source": [
    "X_test[y_test > prediction[\"Logistic\"] ]"
   ]
  },
  {
   "cell_type": "code",
   "execution_count": null,
   "metadata": {},
   "outputs": [],
   "source": []
  }
 ],
 "metadata": {
  "kernelspec": {
   "display_name": "Python 3",
   "language": "python",
   "name": "python3"
  },
  "language_info": {
   "codemirror_mode": {
    "name": "ipython",
    "version": 3
   },
   "file_extension": ".py",
   "mimetype": "text/x-python",
   "name": "python",
   "nbconvert_exporter": "python",
   "pygments_lexer": "ipython3",
   "version": "3.5.5"
  }
 },
 "nbformat": 4,
 "nbformat_minor": 2
}
