{
 "cells": [
  {
   "cell_type": "code",
   "execution_count": 66,
   "metadata": {},
   "outputs": [],
   "source": [
    "import pandas as pd\n",
    "import numpy as np\n",
    "import re"
   ]
  },
  {
   "cell_type": "code",
   "execution_count": 2,
   "metadata": {},
   "outputs": [],
   "source": [
    "df = pd.read_excel('spamdata.xlsx')"
   ]
  },
  {
   "cell_type": "code",
   "execution_count": 7,
   "metadata": {},
   "outputs": [
    {
     "data": {
      "text/plain": [
       "0    Happy New Year!&nbsp;<br />\\r\\n新年快樂<br />\\r\\n<...\n",
       "1    您好, 我們是參加2017HKFW的台灣廠商京澔公司(攤位號3D-DS140)。目前正在尋找...\n",
       "2    Please quote me the latest price of the above ...\n",
       "3    A buyer with the below contact info has just r...\n",
       "4    Please quote me the latest price of the above ...\n",
       "Name: MESSAGE, dtype: object"
      ]
     },
     "execution_count": 7,
     "metadata": {},
     "output_type": "execute_result"
    }
   ],
   "source": [
    "df['MESSAGE'].head()"
   ]
  },
  {
   "cell_type": "code",
   "execution_count": 43,
   "metadata": {},
   "outputs": [
    {
     "data": {
      "text/plain": [
       "'Please quote me the latest price of the above product.<br><br>Purchase Quantity: 3000 piece(s)<br><br><br />\\r\\nSir,<br />\\r\\n<br />\\r\\n&nbsp;<br />\\r\\n<br />\\r\\n<br />\\r\\n<br />\\r\\nWe are interested to purchase your supplyment product.<br />\\r\\n<br />\\r\\n<br />\\r\\n<br />\\r\\nKindly send your quotations and price list to us.<br />\\r\\n<br />\\r\\n<br />\\r\\n<br />\\r\\nFor more details about this order, please contact:Mr Desmond Attah.<br />\\r\\n<br />\\r\\nEmail:rita_izus@lovecat.com<br />\\r\\nEmail:rita_salicheconsultant@consultant.com<br />\\r\\n<br />\\r\\nWaiting to hear from you asap.<br />\\r\\n<br />\\r\\n&nbsp;<br />\\r\\n<br />\\r\\nThanks<br />\\r\\n<br />\\r\\n<br />\\r\\nMs Rita Izuchukwu.<br />\\r\\n<br />\\r\\nManager Lenient Consultant Agency.<br />\\r\\n<br />\\r\\n<br />\\r\\nEmail: rita_izus@lovecat.com<br />\\r\\nEmail:rita_salicheconsultant@consultant.com<br />\\r\\n<br />\\r\\n<br />\\r\\n'"
      ]
     },
     "execution_count": 43,
     "metadata": {},
     "output_type": "execute_result"
    }
   ],
   "source": [
    "df['MESSAGE'].iloc[5]"
   ]
  },
  {
   "cell_type": "code",
   "execution_count": 8,
   "metadata": {},
   "outputs": [],
   "source": [
    "def lan_detector(s):\n",
    "        try:\n",
    "            s.encode(encoding='utf-8').decode('ascii')\n",
    "            return 'Eng'\n",
    "        except UnicodeDecodeError:\n",
    "            return 'Chi'"
   ]
  },
  {
   "cell_type": "code",
   "execution_count": 9,
   "metadata": {},
   "outputs": [],
   "source": [
    "df['lan']=df['MESSAGE'].apply(lan_detector)"
   ]
  },
  {
   "cell_type": "code",
   "execution_count": 10,
   "metadata": {},
   "outputs": [],
   "source": [
    "dfc=df[df['lan']=='Chi']\n",
    "dfe=df[df['lan']=='Eng']"
   ]
  },
  {
   "cell_type": "code",
   "execution_count": 15,
   "metadata": {},
   "outputs": [],
   "source": [
    "dfe=dfe.reset_index(drop=True)\n",
    "dfc=dfc.reset_index(drop=True)"
   ]
  },
  {
   "cell_type": "code",
   "execution_count": 20,
   "metadata": {},
   "outputs": [
    {
     "data": {
      "text/plain": [
       "Index(['ENQUIRY_REQUEST_ID', 'MESSAGE_CENTER_ID', 'MESSAGE_TYPE',\n",
       "       'ENQUIRY_ITEM_TYPE', 'ENQUIRY_TYPE', 'FAIRSYMBOL', 'FAIRFISCALYEAR',\n",
       "       'EMS_ORDER_NO', 'COMPANY_ID', 'PRODUCT_ID', 'WTMCID', 'DEVICETYPE',\n",
       "       'ADSYSID', 'CHANNEL (ER)', 'LAST_CHANNEL (AKAMAI)',\n",
       "       'LAST_CHANNEL_LABEL (AKAMAI)', 'LAST_PUB_CODE (AKAMAI)',\n",
       "       'LAST_ISSUE_NUM (AKAMAI)', 'SENDER_EMAIL_ADDR', 'SEND_DATE', 'SPAM_IND',\n",
       "       'STATUS', 'ENQUIRY_NATURE', 'ENQUIRY_NATURE_DESC', 'MESSAGE', 'SUBJECT',\n",
       "       'ENQUIRY_COUNT_IN_SAME_REQUEST', 'lan'],\n",
       "      dtype='object')"
      ]
     },
     "execution_count": 20,
     "metadata": {},
     "output_type": "execute_result"
    }
   ],
   "source": [
    "dfe.columns"
   ]
  },
  {
   "cell_type": "code",
   "execution_count": 30,
   "metadata": {},
   "outputs": [
    {
     "data": {
      "text/plain": [
       "SPAM_IND\n",
       "N     35\n",
       "Y    235\n",
       "Name: ENQUIRY_REQUEST_ID, dtype: int64"
      ]
     },
     "execution_count": 30,
     "metadata": {},
     "output_type": "execute_result"
    }
   ],
   "source": [
    "dfc.groupby('SPAM_IND').count().iloc[:,0]"
   ]
  },
  {
   "cell_type": "code",
   "execution_count": 32,
   "metadata": {},
   "outputs": [
    {
     "data": {
      "text/plain": [
       "SPAM_IND\n",
       "N      29\n",
       "Y    1543\n",
       "Name: ENQUIRY_REQUEST_ID, dtype: int64"
      ]
     },
     "execution_count": 32,
     "metadata": {},
     "output_type": "execute_result"
    }
   ],
   "source": [
    "dfe.groupby('SPAM_IND').count().iloc[:,0]"
   ]
  },
  {
   "cell_type": "code",
   "execution_count": 45,
   "metadata": {},
   "outputs": [],
   "source": [
    "eg1=dfc['MESSAGE'].iloc[0]\n",
    "eg2=dfc['MESSAGE'].iloc[1]"
   ]
  },
  {
   "cell_type": "code",
   "execution_count": 48,
   "metadata": {},
   "outputs": [],
   "source": [
    "eg1=dfe['MESSAGE'].iloc[0]\n",
    "eg2=dfe['MESSAGE'].iloc[1]"
   ]
  },
  {
   "cell_type": "code",
   "execution_count": 49,
   "metadata": {},
   "outputs": [
    {
     "data": {
      "text/plain": [
       "'Please quote me the latest price of the above product.<br><br>Purchase Quantity: 10 piece(s)<br><br>hello,<br />\\r\\ni need 10 pieces of this item can you ship it to israel?<br />\\r\\nand do you accept visa?or payapl?<br />\\r\\nplease contact me with: alonisrael85@gmail.com<br />\\r\\nhere you can see stores that i working with in israel:<br />\\r\\nwww.buybystore.com'"
      ]
     },
     "execution_count": 49,
     "metadata": {},
     "output_type": "execute_result"
    }
   ],
   "source": [
    "eg1"
   ]
  },
  {
   "cell_type": "code",
   "execution_count": 121,
   "metadata": {},
   "outputs": [],
   "source": [
    "def parse_eng(text):\n",
    "    #initial parsed text\n",
    "    text=text.lower().replace(\"<br />\",\"\").replace(\"\\n\",\" \").replace(\"\\r\",\"\").replace(\"<br>\",\" \")\n",
    "    text=re.sub(r'(\\w|[@])*.com',\"EMAIL\",text)\n",
    "    text=re.sub(r'www.*com',\"WEBSITE\",text)\n",
    "    return text"
   ]
  },
  {
   "cell_type": "code",
   "execution_count": null,
   "metadata": {},
   "outputs": [],
   "source": []
  }
 ],
 "metadata": {
  "kernelspec": {
   "display_name": "Python 3",
   "language": "python",
   "name": "python3"
  },
  "language_info": {
   "codemirror_mode": {
    "name": "ipython",
    "version": 3
   },
   "file_extension": ".py",
   "mimetype": "text/x-python",
   "name": "python",
   "nbconvert_exporter": "python",
   "pygments_lexer": "ipython3",
   "version": "3.5.5"
  }
 },
 "nbformat": 4,
 "nbformat_minor": 2
}
