{
 "cells": [
  {
   "cell_type": "code",
   "execution_count": 66,
   "metadata": {},
   "outputs": [],
   "source": [
    "import pandas as pd\n",
    "import numpy as np\n",
    "import re"
   ]
  },
  {
   "cell_type": "code",
   "execution_count": 2,
   "metadata": {},
   "outputs": [],
   "source": [
    "df = pd.read_excel('spamdata.xlsx')"
   ]
  },
  {
   "cell_type": "code",
   "execution_count": 7,
   "metadata": {},
   "outputs": [
    {
     "data": {
      "text/plain": [
       "0    Happy New Year!&nbsp;<br />\\r\\n新年快樂<br />\\r\\n<...\n",
       "1    您好, 我們是參加2017HKFW的台灣廠商京澔公司(攤位號3D-DS140)。目前正在尋找...\n",
       "2    Please quote me the latest price of the above ...\n",
       "3    A buyer with the below contact info has just r...\n",
       "4    Please quote me the latest price of the above ...\n",
       "Name: MESSAGE, dtype: object"
      ]
     },
     "execution_count": 7,
     "metadata": {},
     "output_type": "execute_result"
    }
   ],
   "source": [
    "df['MESSAGE'].head()"
   ]
  },
  {
   "cell_type": "code",
   "execution_count": 43,
   "metadata": {},
   "outputs": [
    {
     "data": {
      "text/plain": [
       "'Please quote me the latest price of the above product.<br><br>Purchase Quantity: 3000 piece(s)<br><br><br />\\r\\nSir,<br />\\r\\n<br />\\r\\n&nbsp;<br />\\r\\n<br />\\r\\n<br />\\r\\n<br />\\r\\nWe are interested to purchase your supplyment product.<br />\\r\\n<br />\\r\\n<br />\\r\\n<br />\\r\\nKindly send your quotations and price list to us.<br />\\r\\n<br />\\r\\n<br />\\r\\n<br />\\r\\nFor more details about this order, please contact:Mr Desmond Attah.<br />\\r\\n<br />\\r\\nEmail:rita_izus@lovecat.com<br />\\r\\nEmail:rita_salicheconsultant@consultant.com<br />\\r\\n<br />\\r\\nWaiting to hear from you asap.<br />\\r\\n<br />\\r\\n&nbsp;<br />\\r\\n<br />\\r\\nThanks<br />\\r\\n<br />\\r\\n<br />\\r\\nMs Rita Izuchukwu.<br />\\r\\n<br />\\r\\nManager Lenient Consultant Agency.<br />\\r\\n<br />\\r\\n<br />\\r\\nEmail: rita_izus@lovecat.com<br />\\r\\nEmail:rita_salicheconsultant@consultant.com<br />\\r\\n<br />\\r\\n<br />\\r\\n'"
      ]
     },
     "execution_count": 43,
     "metadata": {},
     "output_type": "execute_result"
    }
   ],
   "source": [
    "df['MESSAGE'].iloc[5]"
   ]
  },
  {
   "cell_type": "code",
   "execution_count": 8,
   "metadata": {},
   "outputs": [],
   "source": [
    "def lan_detector(s):\n",
    "        try:\n",
    "            s.encode(encoding='utf-8').decode('ascii')\n",
    "            return 'Eng'\n",
    "        except UnicodeDecodeError:\n",
    "            return 'Chi'"
   ]
  },
  {
   "cell_type": "code",
   "execution_count": 9,
   "metadata": {},
   "outputs": [],
   "source": [
    "df['lan']=df['MESSAGE'].apply(lan_detector)"
   ]
  },
  {
   "cell_type": "code",
   "execution_count": 210,
   "metadata": {},
   "outputs": [],
   "source": [
    "dfc=df[df['lan']=='Chi']\n",
    "dfe=df[df['lan']=='Eng']"
   ]
  },
  {
   "cell_type": "code",
   "execution_count": 211,
   "metadata": {},
   "outputs": [],
   "source": [
    "dfe=dfe.reset_index(drop=True)\n",
    "dfc=dfc.reset_index(drop=True)"
   ]
  },
  {
   "cell_type": "code",
   "execution_count": 20,
   "metadata": {},
   "outputs": [
    {
     "data": {
      "text/plain": [
       "Index(['ENQUIRY_REQUEST_ID', 'MESSAGE_CENTER_ID', 'MESSAGE_TYPE',\n",
       "       'ENQUIRY_ITEM_TYPE', 'ENQUIRY_TYPE', 'FAIRSYMBOL', 'FAIRFISCALYEAR',\n",
       "       'EMS_ORDER_NO', 'COMPANY_ID', 'PRODUCT_ID', 'WTMCID', 'DEVICETYPE',\n",
       "       'ADSYSID', 'CHANNEL (ER)', 'LAST_CHANNEL (AKAMAI)',\n",
       "       'LAST_CHANNEL_LABEL (AKAMAI)', 'LAST_PUB_CODE (AKAMAI)',\n",
       "       'LAST_ISSUE_NUM (AKAMAI)', 'SENDER_EMAIL_ADDR', 'SEND_DATE', 'SPAM_IND',\n",
       "       'STATUS', 'ENQUIRY_NATURE', 'ENQUIRY_NATURE_DESC', 'MESSAGE', 'SUBJECT',\n",
       "       'ENQUIRY_COUNT_IN_SAME_REQUEST', 'lan'],\n",
       "      dtype='object')"
      ]
     },
     "execution_count": 20,
     "metadata": {},
     "output_type": "execute_result"
    }
   ],
   "source": [
    "dfe.columns"
   ]
  },
  {
   "cell_type": "code",
   "execution_count": 30,
   "metadata": {},
   "outputs": [
    {
     "data": {
      "text/plain": [
       "SPAM_IND\n",
       "N     35\n",
       "Y    235\n",
       "Name: ENQUIRY_REQUEST_ID, dtype: int64"
      ]
     },
     "execution_count": 30,
     "metadata": {},
     "output_type": "execute_result"
    }
   ],
   "source": [
    "dfc.groupby('SPAM_IND').count().iloc[:,0]"
   ]
  },
  {
   "cell_type": "code",
   "execution_count": 32,
   "metadata": {},
   "outputs": [
    {
     "data": {
      "text/plain": [
       "SPAM_IND\n",
       "N      29\n",
       "Y    1543\n",
       "Name: ENQUIRY_REQUEST_ID, dtype: int64"
      ]
     },
     "execution_count": 32,
     "metadata": {},
     "output_type": "execute_result"
    }
   ],
   "source": [
    "dfe.groupby('SPAM_IND').count().iloc[:,0]"
   ]
  },
  {
   "cell_type": "code",
   "execution_count": 45,
   "metadata": {},
   "outputs": [],
   "source": [
    "eg1=dfc['MESSAGE'].iloc[0]\n",
    "eg2=dfc['MESSAGE'].iloc[1]"
   ]
  },
  {
   "cell_type": "code",
   "execution_count": 139,
   "metadata": {},
   "outputs": [],
   "source": [
    "eg1=dfe['MESSAGE'].iloc[0]\n",
    "eg4=dfe['MESSAGE'].iloc[3]"
   ]
  },
  {
   "cell_type": "code",
   "execution_count": 192,
   "metadata": {},
   "outputs": [],
   "source": [
    "def parse_eng(text):\n",
    "    #initial parsed text\n",
    "    text=text.lower().replace(\"\\n&nbsp\",\" \").replace(\"<br />\",\" \").replace(\"\\n\",\" \").replace(\"\\r\",\"\").replace(\"<br>\",\" \")\n",
    "    text=re.sub(r'(\\w|[@])*.com',\"EMAIL\",text)\n",
    "    text=re.sub(r'www.*com',\"WEBSITE\",text)\n",
    "    text=re.sub(r'[^\\w\\s]','',text)\n",
    "    return text"
   ]
  },
  {
   "cell_type": "code",
   "execution_count": 212,
   "metadata": {},
   "outputs": [],
   "source": [
    "dfe['p_message']=dfe['MESSAGE'].apply(parse_eng)"
   ]
  },
  {
   "cell_type": "code",
   "execution_count": 214,
   "metadata": {},
   "outputs": [],
   "source": [
    "dfe['spam']=dfe['SPAM_IND'].apply(lambda x: 1 if x=='Y' else 0)"
   ]
  },
  {
   "cell_type": "code",
   "execution_count": 215,
   "metadata": {},
   "outputs": [],
   "source": [
    "dfe=dfe[['p_message','spam']]"
   ]
  },
  {
   "cell_type": "code",
   "execution_count": 216,
   "metadata": {},
   "outputs": [
    {
     "data": {
      "text/plain": [
       "array([1, 0], dtype=int64)"
      ]
     },
     "execution_count": 216,
     "metadata": {},
     "output_type": "execute_result"
    }
   ],
   "source": [
    "dfe['spam'].unique()"
   ]
  },
  {
   "cell_type": "code",
   "execution_count": 217,
   "metadata": {},
   "outputs": [
    {
     "data": {
      "text/plain": [
       "0     please quote me the latest price of the above ...\n",
       "1     a buyer with the below contact info has just r...\n",
       "2     please quote me the latest price of the above ...\n",
       "3     please quote me the latest price of the above ...\n",
       "4     please quote me the latest price of the above ...\n",
       "5                                would like to know moq\n",
       "6     good day    my name is john paul from russia i...\n",
       "7     good day my name is rita mackenzie from canada...\n",
       "8     please quote me the latest price of the above ...\n",
       "9     hi  can you please make me your kind quotation...\n",
       "10    please quote me the latest price of the above ...\n",
       "11    please quote me the latest price of the above ...\n",
       "12    hello    interested in your products we sincer...\n",
       "13    please quote me the latest price of the above ...\n",
       "14    dear sirmadam   nbsp nbsp many greetings to yo...\n",
       "15    please quote me the latest price of the above ...\n",
       "16    hi  we are EMAILpany based in izmir turkey our...\n",
       "17    dear supplier    i would like to enquiry about...\n",
       "18    please quote me the latest price of the above ...\n",
       "19    please quote me the latest price of the above ...\n",
       "20    a buyer with the below contact info has just r...\n",
       "21    a buyer with the below contact info has just r...\n",
       "22    a buyer with the below contact info has just r...\n",
       "23    a buyer with the below contact info has just r...\n",
       "24    hello sir madam    i would like to express my ...\n",
       "25      dearnbsp   nbsp nbsp nbsp sirma      am terr...\n",
       "26    please quote me the latest price of the above ...\n",
       "27    a buyer with the below contact info has just r...\n",
       "28    please kindly send me your latest catalog also...\n",
       "29    please kindly send me your latest catalog also...\n",
       "                            ...                        \n",
       "70    good day    we are interested in purchasing yo...\n",
       "71    dear sir  i am a spanish man that is looking f...\n",
       "72    please quote me the latest price of the above ...\n",
       "73    hi  we are interested in purchasing from EMAIL...\n",
       "74    please quote me the latest price of the above ...\n",
       "75    we are pampn group 2013 co ltd located in bang...\n",
       "76    dear sirmadam    i am eve export manager from ...\n",
       "77    a buyer with the below contact info has just r...\n",
       "78    a buyer with the below contact info has just r...\n",
       "79    a buyer with the below contact info has just r...\n",
       "80    please quote me the latest price of the above ...\n",
       "81    dear sirmadam   nbsp nbsp nbsp nbsp nbsp nbsp ...\n",
       "82    please quote me the latest price of the above ...\n",
       "83      dearnbsp   nbsp nbsp nbsp sirma      am terr...\n",
       "84    looking for a yellow color diamond color fy to...\n",
       "85    hello    interested in your products we sincer...\n",
       "86    hello    interested in your products we sincer...\n",
       "87    i want to know more about EMAILpany and produc...\n",
       "88    hi supplier    wish you happy new year    irsq...\n",
       "89    a buyer with the below contact info has just r...\n",
       "90    a buyer with the below contact info has just r...\n",
       "91    a buyer with the below contact info has just r...\n",
       "92    dear seller    how are you doing today i am in...\n",
       "93    please quote me the latest price of the above ...\n",
       "94    please quote me the latest price of the above ...\n",
       "95    a buyer with the below contact info has just r...\n",
       "96    dear sirmadamenbsp    we are demanda group EMA...\n",
       "97    hi  can you please make me your kind quotation...\n",
       "98    please quote me the latest price of the above ...\n",
       "99    pleasei want to buy your productscan you tell ...\n",
       "Name: p_message, Length: 100, dtype: object"
      ]
     },
     "execution_count": 217,
     "metadata": {},
     "output_type": "execute_result"
    }
   ],
   "source": [
    "dfe['p_message'].iloc[:100]"
   ]
  },
  {
   "cell_type": "code",
   "execution_count": 218,
   "metadata": {},
   "outputs": [],
   "source": [
    "from sklearn.feature_extraction.text import TfidfVectorizer\n",
    "from sklearn.model_selection import train_test_split"
   ]
  },
  {
   "cell_type": "code",
   "execution_count": 219,
   "metadata": {},
   "outputs": [
    {
     "data": {
      "text/plain": [
       "<1572x4716 sparse matrix of type '<class 'numpy.float64'>'\n",
       "\twith 66018 stored elements in Compressed Sparse Row format>"
      ]
     },
     "execution_count": 219,
     "metadata": {},
     "output_type": "execute_result"
    }
   ],
   "source": [
    "vectorizer = TfidfVectorizer(\"english\")\n",
    "message_mat = vectorizer.fit_transform(list(dfe['p_message']))\n",
    "message_mat"
   ]
  },
  {
   "cell_type": "code",
   "execution_count": 220,
   "metadata": {},
   "outputs": [],
   "source": [
    "message_train, message_test, spam_nospam_train, spam_nospam_test = train_test_split(message_mat, dfe['spam'], test_size=0.3, random_state=20)"
   ]
  },
  {
   "cell_type": "code",
   "execution_count": 221,
   "metadata": {},
   "outputs": [
    {
     "data": {
      "text/plain": [
       "0.9851694915254238"
      ]
     },
     "execution_count": 221,
     "metadata": {},
     "output_type": "execute_result"
    }
   ],
   "source": [
    "from sklearn.linear_model import LogisticRegression\n",
    "from sklearn.metrics import accuracy_score\n",
    "\n",
    "Spam_model = LogisticRegression(solver='liblinear',penalty='l1')\n",
    "Spam_model.fit(message_train,spam_nospam_train)\n",
    "pred = Spam_model.predict(message_test)\n",
    "accuracy_score(spam_nospam_test,pred)"
   ]
  },
  {
   "cell_type": "code",
   "execution_count": null,
   "metadata": {},
   "outputs": [],
   "source": []
  }
 ],
 "metadata": {
  "kernelspec": {
   "display_name": "Python 3",
   "language": "python",
   "name": "python3"
  },
  "language_info": {
   "codemirror_mode": {
    "name": "ipython",
    "version": 3
   },
   "file_extension": ".py",
   "mimetype": "text/x-python",
   "name": "python",
   "nbconvert_exporter": "python",
   "pygments_lexer": "ipython3",
   "version": "3.5.5"
  }
 },
 "nbformat": 4,
 "nbformat_minor": 2
}
